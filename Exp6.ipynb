{
    "metadata": {
        "kernelspec": {
            "name": "SQL",
            "display_name": "SQL",
            "language": "sql"
        },
        "language_info": {
            "name": "sql",
            "version": ""
        }
    },
    "nbformat_minor": 2,
    "nbformat": 4,
    "cells": [
        {
            "cell_type": "markdown",
            "source": [
                "# **<u>DBMS Experiment 6</u>**"
            ],
            "metadata": {
                "azdata_cell_guid": "32e38b3f-7f3f-4fdb-9f82-96ffd6b3d884"
            },
            "attachments": {}
        },
        {
            "cell_type": "code",
            "source": [
                "CREATE DATABASE CS210Exp6;"
            ],
            "metadata": {
                "azdata_cell_guid": "429f2156-df7b-40b0-a562-bf58b8eb81dd",
                "language": "sql"
            },
            "outputs": [
                {
                    "output_type": "display_data",
                    "data": {
                        "text/html": "Commands completed successfully"
                    },
                    "metadata": {}
                },
                {
                    "output_type": "display_data",
                    "data": {
                        "text/html": "Total execution time: 00:00:00.006"
                    },
                    "metadata": {}
                }
            ],
            "execution_count": 1
        },
        {
            "cell_type": "code",
            "source": [
                "USE CS210Exp6;"
            ],
            "metadata": {
                "language": "sql",
                "azdata_cell_guid": "2b39c660-77e2-4016-94f2-096608bc635e"
            },
            "outputs": [
                {
                    "output_type": "display_data",
                    "data": {
                        "text/html": "Commands completed successfully"
                    },
                    "metadata": {}
                },
                {
                    "output_type": "display_data",
                    "data": {
                        "text/html": "Total execution time: 00:00:00.002"
                    },
                    "metadata": {}
                }
            ],
            "execution_count": 2
        },
        {
            "cell_type": "code",
            "source": [
                "CREATE TABLE students (\n",
                "    student_id INT PRIMARY KEY,\n",
                "    name VARCHAR(50),\n",
                "    age INT,\n",
                "    dept VARCHAR(50)\n",
                ");"
            ],
            "metadata": {
                "language": "sql",
                "azdata_cell_guid": "a29409eb-5af9-40d8-a6a9-479a2ab88756"
            },
            "outputs": [
                {
                    "output_type": "display_data",
                    "data": {
                        "text/html": "Commands completed successfully"
                    },
                    "metadata": {}
                },
                {
                    "output_type": "display_data",
                    "data": {
                        "text/html": "Total execution time: 00:00:00.024"
                    },
                    "metadata": {}
                }
            ],
            "execution_count": 3
        },
        {
            "cell_type": "code",
            "source": [
                "CREATE TABLE subjects (\n",
                "    subject_id INT PRIMARY KEY,\n",
                "    student_id INT,\n",
                "    subject_name VARCHAR(50),\n",
                "    marks INT,\n",
                "    FOREIGN KEY (student_id) REFERENCES students(student_id)\n",
                ");"
            ],
            "metadata": {
                "language": "sql",
                "azdata_cell_guid": "36ee0252-1e2e-4d4a-a933-09340ff6849c"
            },
            "outputs": [
                {
                    "output_type": "display_data",
                    "data": {
                        "text/html": "Commands completed successfully"
                    },
                    "metadata": {}
                },
                {
                    "output_type": "display_data",
                    "data": {
                        "text/html": "Total execution time: 00:00:00.024"
                    },
                    "metadata": {}
                }
            ],
            "execution_count": 4
        },
        {
            "cell_type": "code",
            "source": [
                "INSERT INTO students VALUES\n",
                "(1, 'Ram Kumar', 20, 'Computer Science'),\n",
                "(2, 'Shyam Singh', 21, 'Electrical Engineering'),\n",
                "(3, 'Rohan Sharma', 22, 'Mechanical Engineering'),\n",
                "(4, 'Sohan Raja', 20, 'Computer Science');"
            ],
            "metadata": {
                "language": "sql",
                "azdata_cell_guid": "19c83ab7-bea1-4f0b-96ff-8f8a18bdfec9"
            },
            "outputs": [
                {
                    "output_type": "display_data",
                    "data": {
                        "text/html": "Commands completed successfully"
                    },
                    "metadata": {}
                },
                {
                    "output_type": "display_data",
                    "data": {
                        "text/html": "Total execution time: 00:00:00.008"
                    },
                    "metadata": {}
                }
            ],
            "execution_count": 5
        },
        {
            "cell_type": "code",
            "source": [
                "INSERT INTO subjects VALUES\n",
                "(101, 1, 'Math', 85),\n",
                "(102, 1, 'Physics', 78),\n",
                "(103, 2, 'Math', 90),\n",
                "(104, 2, 'Electronics', 82),\n",
                "(105, 3, 'Math', 88),\n",
                "(106, 4, 'Computer Networks', 80);"
            ],
            "metadata": {
                "language": "sql",
                "azdata_cell_guid": "a94764b5-3e14-4190-b208-c4aea80d57ab"
            },
            "outputs": [
                {
                    "output_type": "display_data",
                    "data": {
                        "text/html": "Commands completed successfully"
                    },
                    "metadata": {}
                },
                {
                    "output_type": "display_data",
                    "data": {
                        "text/html": "Total execution time: 00:00:00.008"
                    },
                    "metadata": {}
                }
            ],
            "execution_count": 6
        },
        {
            "cell_type": "markdown",
            "source": [
                "## Nested Queries"
            ],
            "metadata": {
                "language": "sql",
                "azdata_cell_guid": "d8a5d830-77d9-4d5f-820f-e0202cd87cb9"
            },
            "attachments": {}
        },
        {
            "cell_type": "code",
            "source": [
                "SELECT name,\n",
                "       (SELECT MAX(marks) \n",
                "        FROM subjects \n",
                "        WHERE subjects.student_id = students.student_id) AS highest_marks\n",
                "FROM students;"
            ],
            "metadata": {
                "language": "sql",
                "azdata_cell_guid": "0a64e10d-023b-454b-82c0-bedfb9f65aad"
            },
            "outputs": [
                {
                    "output_type": "display_data",
                    "data": {
                        "text/html": "(4 row(s) affected)"
                    },
                    "metadata": {}
                },
                {
                    "output_type": "display_data",
                    "data": {
                        "text/html": "Total execution time: 00:00:01.006"
                    },
                    "metadata": {}
                },
                {
                    "output_type": "execute_result",
                    "metadata": {},
                    "execution_count": 7,
                    "data": {
                        "application/vnd.dataresource+json": {
                            "schema": {
                                "fields": [
                                    {
                                        "name": "name"
                                    },
                                    {
                                        "name": "highest_marks"
                                    }
                                ]
                            },
                            "data": [
                                {
                                    "name": "Ram Kumar",
                                    "highest_marks": "85"
                                },
                                {
                                    "name": "Shyam Singh",
                                    "highest_marks": "90"
                                },
                                {
                                    "name": "Rohan Sharma",
                                    "highest_marks": "88"
                                },
                                {
                                    "name": "Sohan Raja",
                                    "highest_marks": "80"
                                }
                            ]
                        },
                        "text/html": [
                            "<table>",
                            "<tr><th>name</th><th>highest_marks</th></tr>",
                            "<tr><td>Ram Kumar</td><td>85</td></tr>",
                            "<tr><td>Shyam Singh</td><td>90</td></tr>",
                            "<tr><td>Rohan Sharma</td><td>88</td></tr>",
                            "<tr><td>Sohan Raja</td><td>80</td></tr>",
                            "</table>"
                        ]
                    }
                }
            ],
            "execution_count": 7
        },
        {
            "cell_type": "code",
            "source": [
                "SELECT name\n",
                "FROM students\n",
                "WHERE student_id IN (\n",
                "    SELECT student_id\n",
                "    FROM subjects\n",
                "    WHERE marks > 80\n",
                ");"
            ],
            "metadata": {
                "language": "sql",
                "azdata_cell_guid": "f8bd2db3-a661-41ee-9cae-d4c065bf35bf"
            },
            "outputs": [
                {
                    "output_type": "display_data",
                    "data": {
                        "text/html": "(3 row(s) affected)"
                    },
                    "metadata": {}
                },
                {
                    "output_type": "display_data",
                    "data": {
                        "text/html": "Total execution time: 00:00:01.009"
                    },
                    "metadata": {}
                },
                {
                    "output_type": "execute_result",
                    "metadata": {},
                    "execution_count": 8,
                    "data": {
                        "application/vnd.dataresource+json": {
                            "schema": {
                                "fields": [
                                    {
                                        "name": "name"
                                    }
                                ]
                            },
                            "data": [
                                {
                                    "name": "Ram Kumar"
                                },
                                {
                                    "name": "Shyam Singh"
                                },
                                {
                                    "name": "Rohan Sharma"
                                }
                            ]
                        },
                        "text/html": [
                            "<table>",
                            "<tr><th>name</th></tr>",
                            "<tr><td>Ram Kumar</td></tr>",
                            "<tr><td>Shyam Singh</td></tr>",
                            "<tr><td>Rohan Sharma</td></tr>",
                            "</table>"
                        ]
                    }
                }
            ],
            "execution_count": 8
        },
        {
            "cell_type": "code",
            "source": [
                "SELECT name\n",
                "FROM students s\n",
                "WHERE EXISTS (\n",
                "    SELECT 1\n",
                "    FROM subjects sub\n",
                "    WHERE sub.student_id = s.student_id\n",
                "    AND sub.marks > (\n",
                "        SELECT AVG(marks)\n",
                "        FROM subjects\n",
                "        WHERE student_id = s.student_id\n",
                "    )\n",
                ");"
            ],
            "metadata": {
                "language": "sql",
                "azdata_cell_guid": "e62764f8-acad-475b-8abe-49611cbcbb89",
                "tags": []
            },
            "outputs": [
                {
                    "output_type": "display_data",
                    "data": {
                        "text/html": "(2 row(s) affected)"
                    },
                    "metadata": {}
                },
                {
                    "output_type": "display_data",
                    "data": {
                        "text/html": "Total execution time: 00:00:01.008"
                    },
                    "metadata": {}
                },
                {
                    "output_type": "execute_result",
                    "metadata": {},
                    "execution_count": 9,
                    "data": {
                        "application/vnd.dataresource+json": {
                            "schema": {
                                "fields": [
                                    {
                                        "name": "name"
                                    }
                                ]
                            },
                            "data": [
                                {
                                    "name": "Ram Kumar"
                                },
                                {
                                    "name": "Shyam Singh"
                                }
                            ]
                        },
                        "text/html": [
                            "<table>",
                            "<tr><th>name</th></tr>",
                            "<tr><td>Ram Kumar</td></tr>",
                            "<tr><td>Shyam Singh</td></tr>",
                            "</table>"
                        ]
                    }
                }
            ],
            "execution_count": 9
        },
        {
            "cell_type": "markdown",
            "source": [
                "## INNER JOIN"
            ],
            "metadata": {
                "language": "sql",
                "azdata_cell_guid": "7c9a390b-47f1-4c9d-bbd5-bc702bb33282"
            },
            "attachments": {}
        },
        {
            "cell_type": "code",
            "source": [
                "SELECT s.name, sub.subject_name, sub.marks\n",
                "FROM students s\n",
                "INNER JOIN subjects sub ON s.student_id = sub.student_id;"
            ],
            "metadata": {
                "language": "sql",
                "azdata_cell_guid": "c30d5e4e-d95f-43b5-bc92-8414f67ac139"
            },
            "outputs": [
                {
                    "output_type": "display_data",
                    "data": {
                        "text/html": "(6 row(s) affected)"
                    },
                    "metadata": {}
                },
                {
                    "output_type": "display_data",
                    "data": {
                        "text/html": "Total execution time: 00:00:01.007"
                    },
                    "metadata": {}
                },
                {
                    "output_type": "execute_result",
                    "metadata": {},
                    "execution_count": 10,
                    "data": {
                        "application/vnd.dataresource+json": {
                            "schema": {
                                "fields": [
                                    {
                                        "name": "name"
                                    },
                                    {
                                        "name": "subject_name"
                                    },
                                    {
                                        "name": "marks"
                                    }
                                ]
                            },
                            "data": [
                                {
                                    "name": "Ram Kumar",
                                    "subject_name": "Math",
                                    "marks": "85"
                                },
                                {
                                    "name": "Ram Kumar",
                                    "subject_name": "Physics",
                                    "marks": "78"
                                },
                                {
                                    "name": "Shyam Singh",
                                    "subject_name": "Math",
                                    "marks": "90"
                                },
                                {
                                    "name": "Shyam Singh",
                                    "subject_name": "Electronics",
                                    "marks": "82"
                                },
                                {
                                    "name": "Rohan Sharma",
                                    "subject_name": "Math",
                                    "marks": "88"
                                },
                                {
                                    "name": "Sohan Raja",
                                    "subject_name": "Computer Networks",
                                    "marks": "80"
                                }
                            ]
                        },
                        "text/html": [
                            "<table>",
                            "<tr><th>name</th><th>subject_name</th><th>marks</th></tr>",
                            "<tr><td>Ram Kumar</td><td>Math</td><td>85</td></tr>",
                            "<tr><td>Ram Kumar</td><td>Physics</td><td>78</td></tr>",
                            "<tr><td>Shyam Singh</td><td>Math</td><td>90</td></tr>",
                            "<tr><td>Shyam Singh</td><td>Electronics</td><td>82</td></tr>",
                            "<tr><td>Rohan Sharma</td><td>Math</td><td>88</td></tr>",
                            "<tr><td>Sohan Raja</td><td>Computer Networks</td><td>80</td></tr>",
                            "</table>"
                        ]
                    }
                }
            ],
            "execution_count": 10
        },
        {
            "cell_type": "markdown",
            "source": [
                "## LEFT JOIN"
            ],
            "metadata": {
                "language": "sql",
                "azdata_cell_guid": "b0610d15-8cb1-41e4-b6f9-134f147c76b8"
            },
            "attachments": {}
        },
        {
            "cell_type": "code",
            "source": [
                "SELECT s.name, sub.subject_name, sub.marks\n",
                "FROM students s\n",
                "LEFT JOIN subjects sub ON s.student_id = sub.student_id;"
            ],
            "metadata": {
                "language": "sql",
                "azdata_cell_guid": "e5341b8a-d0e8-48ba-91b0-05eb0c1e3033"
            },
            "outputs": [
                {
                    "output_type": "display_data",
                    "data": {
                        "text/html": "(6 row(s) affected)"
                    },
                    "metadata": {}
                },
                {
                    "output_type": "display_data",
                    "data": {
                        "text/html": "Total execution time: 00:00:01.008"
                    },
                    "metadata": {}
                },
                {
                    "output_type": "execute_result",
                    "metadata": {},
                    "execution_count": 11,
                    "data": {
                        "application/vnd.dataresource+json": {
                            "schema": {
                                "fields": [
                                    {
                                        "name": "name"
                                    },
                                    {
                                        "name": "subject_name"
                                    },
                                    {
                                        "name": "marks"
                                    }
                                ]
                            },
                            "data": [
                                {
                                    "name": "Ram Kumar",
                                    "subject_name": "Math",
                                    "marks": "85"
                                },
                                {
                                    "name": "Ram Kumar",
                                    "subject_name": "Physics",
                                    "marks": "78"
                                },
                                {
                                    "name": "Shyam Singh",
                                    "subject_name": "Math",
                                    "marks": "90"
                                },
                                {
                                    "name": "Shyam Singh",
                                    "subject_name": "Electronics",
                                    "marks": "82"
                                },
                                {
                                    "name": "Rohan Sharma",
                                    "subject_name": "Math",
                                    "marks": "88"
                                },
                                {
                                    "name": "Sohan Raja",
                                    "subject_name": "Computer Networks",
                                    "marks": "80"
                                }
                            ]
                        },
                        "text/html": [
                            "<table>",
                            "<tr><th>name</th><th>subject_name</th><th>marks</th></tr>",
                            "<tr><td>Ram Kumar</td><td>Math</td><td>85</td></tr>",
                            "<tr><td>Ram Kumar</td><td>Physics</td><td>78</td></tr>",
                            "<tr><td>Shyam Singh</td><td>Math</td><td>90</td></tr>",
                            "<tr><td>Shyam Singh</td><td>Electronics</td><td>82</td></tr>",
                            "<tr><td>Rohan Sharma</td><td>Math</td><td>88</td></tr>",
                            "<tr><td>Sohan Raja</td><td>Computer Networks</td><td>80</td></tr>",
                            "</table>"
                        ]
                    }
                }
            ],
            "execution_count": 11
        },
        {
            "cell_type": "markdown",
            "source": [
                "## RIGHT JOIN"
            ],
            "metadata": {
                "language": "sql",
                "azdata_cell_guid": "c081280a-7afb-4d85-94b8-98f0f5bb5e97"
            },
            "attachments": {}
        },
        {
            "cell_type": "code",
            "source": [
                "SELECT s.name, sub.subject_name, sub.marks\n",
                "FROM students s\n",
                "RIGHT JOIN subjects sub ON s.student_id = sub.student_id;"
            ],
            "metadata": {
                "language": "sql",
                "azdata_cell_guid": "a9ca7d14-da39-4edc-8e15-30350dfe71d5"
            },
            "outputs": [
                {
                    "output_type": "display_data",
                    "data": {
                        "text/html": "(6 row(s) affected)"
                    },
                    "metadata": {}
                },
                {
                    "output_type": "display_data",
                    "data": {
                        "text/html": "Total execution time: 00:00:01.006"
                    },
                    "metadata": {}
                },
                {
                    "output_type": "execute_result",
                    "metadata": {},
                    "execution_count": 12,
                    "data": {
                        "application/vnd.dataresource+json": {
                            "schema": {
                                "fields": [
                                    {
                                        "name": "name"
                                    },
                                    {
                                        "name": "subject_name"
                                    },
                                    {
                                        "name": "marks"
                                    }
                                ]
                            },
                            "data": [
                                {
                                    "name": "Ram Kumar",
                                    "subject_name": "Math",
                                    "marks": "85"
                                },
                                {
                                    "name": "Ram Kumar",
                                    "subject_name": "Physics",
                                    "marks": "78"
                                },
                                {
                                    "name": "Shyam Singh",
                                    "subject_name": "Math",
                                    "marks": "90"
                                },
                                {
                                    "name": "Shyam Singh",
                                    "subject_name": "Electronics",
                                    "marks": "82"
                                },
                                {
                                    "name": "Rohan Sharma",
                                    "subject_name": "Math",
                                    "marks": "88"
                                },
                                {
                                    "name": "Sohan Raja",
                                    "subject_name": "Computer Networks",
                                    "marks": "80"
                                }
                            ]
                        },
                        "text/html": [
                            "<table>",
                            "<tr><th>name</th><th>subject_name</th><th>marks</th></tr>",
                            "<tr><td>Ram Kumar</td><td>Math</td><td>85</td></tr>",
                            "<tr><td>Ram Kumar</td><td>Physics</td><td>78</td></tr>",
                            "<tr><td>Shyam Singh</td><td>Math</td><td>90</td></tr>",
                            "<tr><td>Shyam Singh</td><td>Electronics</td><td>82</td></tr>",
                            "<tr><td>Rohan Sharma</td><td>Math</td><td>88</td></tr>",
                            "<tr><td>Sohan Raja</td><td>Computer Networks</td><td>80</td></tr>",
                            "</table>"
                        ]
                    }
                }
            ],
            "execution_count": 12
        },
        {
            "cell_type": "markdown",
            "source": [
                "## FULL OUTER JOIN"
            ],
            "metadata": {
                "language": "sql",
                "azdata_cell_guid": "3a8e462d-7e6e-4c24-a321-60947a3e9e86"
            },
            "attachments": {}
        },
        {
            "cell_type": "code",
            "source": [
                "SELECT s.name, sub.subject_name, sub.marks\n",
                "FROM students s\n",
                "LEFT JOIN subjects sub ON s.student_id = sub.student_id\n",
                "\n",
                "UNION\n",
                "\n",
                "SELECT s.name, sub.subject_name, sub.marks\n",
                "FROM students s\n",
                "RIGHT JOIN subjects sub ON s.student_id = sub.student_id;"
            ],
            "metadata": {
                "language": "sql",
                "azdata_cell_guid": "c9de8ac3-606e-494c-a8a4-13cce9e1d00c"
            },
            "outputs": [
                {
                    "output_type": "display_data",
                    "data": {
                        "text/html": "(6 row(s) affected)"
                    },
                    "metadata": {}
                },
                {
                    "output_type": "display_data",
                    "data": {
                        "text/html": "Total execution time: 00:00:01.009"
                    },
                    "metadata": {}
                },
                {
                    "output_type": "execute_result",
                    "metadata": {},
                    "execution_count": 13,
                    "data": {
                        "application/vnd.dataresource+json": {
                            "schema": {
                                "fields": [
                                    {
                                        "name": "name"
                                    },
                                    {
                                        "name": "subject_name"
                                    },
                                    {
                                        "name": "marks"
                                    }
                                ]
                            },
                            "data": [
                                {
                                    "name": "Ram Kumar",
                                    "subject_name": "Math",
                                    "marks": "85"
                                },
                                {
                                    "name": "Ram Kumar",
                                    "subject_name": "Physics",
                                    "marks": "78"
                                },
                                {
                                    "name": "Shyam Singh",
                                    "subject_name": "Math",
                                    "marks": "90"
                                },
                                {
                                    "name": "Shyam Singh",
                                    "subject_name": "Electronics",
                                    "marks": "82"
                                },
                                {
                                    "name": "Rohan Sharma",
                                    "subject_name": "Math",
                                    "marks": "88"
                                },
                                {
                                    "name": "Sohan Raja",
                                    "subject_name": "Computer Networks",
                                    "marks": "80"
                                }
                            ]
                        },
                        "text/html": [
                            "<table>",
                            "<tr><th>name</th><th>subject_name</th><th>marks</th></tr>",
                            "<tr><td>Ram Kumar</td><td>Math</td><td>85</td></tr>",
                            "<tr><td>Ram Kumar</td><td>Physics</td><td>78</td></tr>",
                            "<tr><td>Shyam Singh</td><td>Math</td><td>90</td></tr>",
                            "<tr><td>Shyam Singh</td><td>Electronics</td><td>82</td></tr>",
                            "<tr><td>Rohan Sharma</td><td>Math</td><td>88</td></tr>",
                            "<tr><td>Sohan Raja</td><td>Computer Networks</td><td>80</td></tr>",
                            "</table>"
                        ]
                    }
                }
            ],
            "execution_count": 13
        },
        {
            "cell_type": "markdown",
            "source": [
                "## SELF JOIN"
            ],
            "metadata": {
                "language": "sql",
                "azdata_cell_guid": "c7db48f2-3b9f-4f6c-9a27-4e4a3a851e9b"
            },
            "attachments": {}
        },
        {
            "cell_type": "code",
            "source": [
                "SELECT s1.name AS student1, s2.name AS student2, s1.dept\n",
                "FROM students s1\n",
                "JOIN students s2 ON s1.dept = s2.dept\n",
                "WHERE s1.student_id < s2.student_id;"
            ],
            "metadata": {
                "language": "sql",
                "azdata_cell_guid": "83b419d5-7e74-4c5f-9f6f-a5718685eaac"
            },
            "outputs": [
                {
                    "output_type": "display_data",
                    "data": {
                        "text/html": "(1 row(s) affected)"
                    },
                    "metadata": {}
                },
                {
                    "output_type": "display_data",
                    "data": {
                        "text/html": "Total execution time: 00:00:01.008"
                    },
                    "metadata": {}
                },
                {
                    "output_type": "execute_result",
                    "metadata": {},
                    "execution_count": 16,
                    "data": {
                        "application/vnd.dataresource+json": {
                            "schema": {
                                "fields": [
                                    {
                                        "name": "student1"
                                    },
                                    {
                                        "name": "student2"
                                    },
                                    {
                                        "name": "dept"
                                    }
                                ]
                            },
                            "data": [
                                {
                                    "student1": "Ram Kumar",
                                    "student2": "Sohan Raja",
                                    "dept": "Computer Science"
                                }
                            ]
                        },
                        "text/html": [
                            "<table>",
                            "<tr><th>student1</th><th>student2</th><th>dept</th></tr>",
                            "<tr><td>Ram Kumar</td><td>Sohan Raja</td><td>Computer Science</td></tr>",
                            "</table>"
                        ]
                    }
                }
            ],
            "execution_count": 16
        }
    ]
}