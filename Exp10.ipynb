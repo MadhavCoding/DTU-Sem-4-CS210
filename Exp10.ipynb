{
    "metadata": {
        "kernelspec": {
            "name": "SQL",
            "display_name": "SQL",
            "language": "sql"
        },
        "language_info": {
            "name": "sql",
            "version": ""
        }
    },
    "nbformat_minor": 2,
    "nbformat": 4,
    "cells": [
        {
            "cell_type": "markdown",
            "source": [
                "# **<u>DBMS Experiment 10</u>**"
            ],
            "metadata": {
                "azdata_cell_guid": "65368f80-1070-4272-9070-c235d0d12154"
            },
            "attachments": {}
        },
        {
            "cell_type": "code",
            "source": [
                "CREATE DATABASE CS210Exp10;"
            ],
            "metadata": {
                "azdata_cell_guid": "aed6fe10-7b5f-47b9-8fa2-bd3d85f7cdb3",
                "language": "sql"
            },
            "outputs": [
                {
                    "output_type": "display_data",
                    "data": {
                        "text/html": "Commands completed successfully"
                    },
                    "metadata": {}
                },
                {
                    "output_type": "display_data",
                    "data": {
                        "text/html": "Total execution time: 00:00:00.006"
                    },
                    "metadata": {}
                }
            ],
            "execution_count": 1
        },
        {
            "cell_type": "code",
            "source": [
                "USE CS210Exp10;"
            ],
            "metadata": {
                "language": "sql",
                "azdata_cell_guid": "ccd1f111-436f-43a5-bb58-0f49d4b2a633"
            },
            "outputs": [
                {
                    "output_type": "display_data",
                    "data": {
                        "text/html": "Commands completed successfully"
                    },
                    "metadata": {}
                },
                {
                    "output_type": "display_data",
                    "data": {
                        "text/html": "Total execution time: 00:00:00.003"
                    },
                    "metadata": {}
                }
            ],
            "execution_count": 2
        },
        {
            "cell_type": "code",
            "source": [
                "CREATE TABLE Employees (\n",
                "    EmpID INT PRIMARY KEY,\n",
                "    Name VARCHAR(50),\n",
                "    Department VARCHAR(50),\n",
                "    Salary DECIMAL(10, 2)\n",
                ");"
            ],
            "metadata": {
                "language": "sql",
                "azdata_cell_guid": "61285587-35ef-426c-b3fc-478897a4daeb"
            },
            "outputs": [
                {
                    "output_type": "display_data",
                    "data": {
                        "text/html": "Commands completed successfully"
                    },
                    "metadata": {}
                },
                {
                    "output_type": "display_data",
                    "data": {
                        "text/html": "Total execution time: 00:00:00.019"
                    },
                    "metadata": {}
                }
            ],
            "execution_count": 3
        },
        {
            "cell_type": "code",
            "source": [
                "INSERT INTO Employees (EmpID, Name, Department, Salary) VALUES\n",
                "(1, 'Aarav', 'HR', 50000),\n",
                "(2, 'Bhavna', 'HR', 55000),\n",
                "(3, 'Chirag', 'IT', 70000),\n",
                "(4, 'Divya', 'IT', 72000),\n",
                "(5, 'Esha', 'Finance', 60000),\n",
                "(6, 'Farhan', 'Finance', 58000),\n",
                "(7, 'Garima', 'IT', 69000),\n",
                "(8, 'Harsh', 'HR', 53000);"
            ],
            "metadata": {
                "language": "sql",
                "azdata_cell_guid": "4c96023e-21e6-4cd2-96f3-cc1f3bceb9e0"
            },
            "outputs": [
                {
                    "output_type": "display_data",
                    "data": {
                        "text/html": "Commands completed successfully"
                    },
                    "metadata": {}
                },
                {
                    "output_type": "display_data",
                    "data": {
                        "text/html": "Total execution time: 00:00:00.007"
                    },
                    "metadata": {}
                }
            ],
            "execution_count": 4
        },
        {
            "cell_type": "markdown",
            "source": [
                "## Aggregate Functions"
            ],
            "metadata": {
                "language": "sql",
                "azdata_cell_guid": "d44865c1-c20f-4768-9e0c-cd7d80494a92"
            },
            "attachments": {}
        },
        {
            "cell_type": "code",
            "source": [
                "SELECT COUNT(*) AS Total_Employees FROM Employees;"
            ],
            "metadata": {
                "language": "sql",
                "azdata_cell_guid": "36e98442-831d-4b66-815c-28d7ed052466"
            },
            "outputs": [
                {
                    "output_type": "display_data",
                    "data": {
                        "text/html": "(1 row(s) affected)"
                    },
                    "metadata": {}
                },
                {
                    "output_type": "display_data",
                    "data": {
                        "text/html": "Total execution time: 00:00:01.009"
                    },
                    "metadata": {}
                },
                {
                    "output_type": "execute_result",
                    "metadata": {},
                    "execution_count": 5,
                    "data": {
                        "application/vnd.dataresource+json": {
                            "schema": {
                                "fields": [
                                    {
                                        "name": "Total_Employees"
                                    }
                                ]
                            },
                            "data": [
                                {
                                    "Total_Employees": "8"
                                }
                            ]
                        },
                        "text/html": [
                            "<table>",
                            "<tr><th>Total_Employees</th></tr>",
                            "<tr><td>8</td></tr>",
                            "</table>"
                        ]
                    }
                }
            ],
            "execution_count": 5
        },
        {
            "cell_type": "code",
            "source": [
                "SELECT SUM(Salary) AS Total_Salary FROM Employees;"
            ],
            "metadata": {
                "language": "sql",
                "azdata_cell_guid": "7440ee33-f0a8-4c7b-86a8-87f9647698a0"
            },
            "outputs": [
                {
                    "output_type": "display_data",
                    "data": {
                        "text/html": "(1 row(s) affected)"
                    },
                    "metadata": {}
                },
                {
                    "output_type": "display_data",
                    "data": {
                        "text/html": "Total execution time: 00:00:01.007"
                    },
                    "metadata": {}
                },
                {
                    "output_type": "execute_result",
                    "metadata": {},
                    "execution_count": 6,
                    "data": {
                        "application/vnd.dataresource+json": {
                            "schema": {
                                "fields": [
                                    {
                                        "name": "Total_Salary"
                                    }
                                ]
                            },
                            "data": [
                                {
                                    "Total_Salary": "487000.00"
                                }
                            ]
                        },
                        "text/html": [
                            "<table>",
                            "<tr><th>Total_Salary</th></tr>",
                            "<tr><td>487000.00</td></tr>",
                            "</table>"
                        ]
                    }
                }
            ],
            "execution_count": 6
        },
        {
            "cell_type": "code",
            "source": [
                "SELECT AVG(Salary) AS Average_Salary FROM Employees;"
            ],
            "metadata": {
                "language": "sql",
                "azdata_cell_guid": "31b6778c-c430-4983-ab9b-097670ea30eb"
            },
            "outputs": [
                {
                    "output_type": "display_data",
                    "data": {
                        "text/html": "(1 row(s) affected)"
                    },
                    "metadata": {}
                },
                {
                    "output_type": "display_data",
                    "data": {
                        "text/html": "Total execution time: 00:00:01.007"
                    },
                    "metadata": {}
                },
                {
                    "output_type": "execute_result",
                    "metadata": {},
                    "execution_count": 7,
                    "data": {
                        "application/vnd.dataresource+json": {
                            "schema": {
                                "fields": [
                                    {
                                        "name": "Average_Salary"
                                    }
                                ]
                            },
                            "data": [
                                {
                                    "Average_Salary": "60875.000000"
                                }
                            ]
                        },
                        "text/html": [
                            "<table>",
                            "<tr><th>Average_Salary</th></tr>",
                            "<tr><td>60875.000000</td></tr>",
                            "</table>"
                        ]
                    }
                }
            ],
            "execution_count": 7
        },
        {
            "cell_type": "code",
            "source": [
                "SELECT MIN(Salary) AS Minimum_Salary, MAX(Salary) AS Maximum_Salary FROM Employees;"
            ],
            "metadata": {
                "language": "sql",
                "azdata_cell_guid": "a9265859-a02a-4886-a6f7-7182dc270b91"
            },
            "outputs": [
                {
                    "output_type": "display_data",
                    "data": {
                        "text/html": "(1 row(s) affected)"
                    },
                    "metadata": {}
                },
                {
                    "output_type": "display_data",
                    "data": {
                        "text/html": "Total execution time: 00:00:01.011"
                    },
                    "metadata": {}
                },
                {
                    "output_type": "execute_result",
                    "metadata": {},
                    "execution_count": 8,
                    "data": {
                        "application/vnd.dataresource+json": {
                            "schema": {
                                "fields": [
                                    {
                                        "name": "Minimum_Salary"
                                    },
                                    {
                                        "name": "Maximum_Salary"
                                    }
                                ]
                            },
                            "data": [
                                {
                                    "Minimum_Salary": "50000.00",
                                    "Maximum_Salary": "72000.00"
                                }
                            ]
                        },
                        "text/html": [
                            "<table>",
                            "<tr><th>Minimum_Salary</th><th>Maximum_Salary</th></tr>",
                            "<tr><td>50000.00</td><td>72000.00</td></tr>",
                            "</table>"
                        ]
                    }
                }
            ],
            "execution_count": 8
        },
        {
            "cell_type": "markdown",
            "source": [
                "## Using GROUP BY"
            ],
            "metadata": {
                "language": "sql",
                "azdata_cell_guid": "f2b02dd1-fb5d-44fc-a7b3-7c3eed914272"
            },
            "attachments": {}
        },
        {
            "cell_type": "code",
            "source": [
                "SELECT Department, COUNT(*) AS Number_of_Employees\n",
                "FROM Employees\n",
                "GROUP BY Department;"
            ],
            "metadata": {
                "language": "sql",
                "azdata_cell_guid": "002f0dfb-373d-47c6-93b1-777daa85ff73"
            },
            "outputs": [
                {
                    "output_type": "display_data",
                    "data": {
                        "text/html": "(3 row(s) affected)"
                    },
                    "metadata": {}
                },
                {
                    "output_type": "display_data",
                    "data": {
                        "text/html": "Total execution time: 00:00:01.010"
                    },
                    "metadata": {}
                },
                {
                    "output_type": "execute_result",
                    "metadata": {},
                    "execution_count": 9,
                    "data": {
                        "application/vnd.dataresource+json": {
                            "schema": {
                                "fields": [
                                    {
                                        "name": "Department"
                                    },
                                    {
                                        "name": "Number_of_Employees"
                                    }
                                ]
                            },
                            "data": [
                                {
                                    "Department": "HR",
                                    "Number_of_Employees": "3"
                                },
                                {
                                    "Department": "IT",
                                    "Number_of_Employees": "3"
                                },
                                {
                                    "Department": "Finance",
                                    "Number_of_Employees": "2"
                                }
                            ]
                        },
                        "text/html": [
                            "<table>",
                            "<tr><th>Department</th><th>Number_of_Employees</th></tr>",
                            "<tr><td>HR</td><td>3</td></tr>",
                            "<tr><td>IT</td><td>3</td></tr>",
                            "<tr><td>Finance</td><td>2</td></tr>",
                            "</table>"
                        ]
                    }
                }
            ],
            "execution_count": 9
        },
        {
            "cell_type": "code",
            "source": [
                "SELECT Department, AVG(Salary) AS Avg_Salary\n",
                "FROM Employees\n",
                "GROUP BY Department;"
            ],
            "metadata": {
                "language": "sql",
                "azdata_cell_guid": "fc9a21b7-35c7-4531-8aa6-e213ad20f597"
            },
            "outputs": [
                {
                    "output_type": "display_data",
                    "data": {
                        "text/html": "(3 row(s) affected)"
                    },
                    "metadata": {}
                },
                {
                    "output_type": "display_data",
                    "data": {
                        "text/html": "Total execution time: 00:00:01.004"
                    },
                    "metadata": {}
                },
                {
                    "output_type": "execute_result",
                    "metadata": {},
                    "execution_count": 10,
                    "data": {
                        "application/vnd.dataresource+json": {
                            "schema": {
                                "fields": [
                                    {
                                        "name": "Department"
                                    },
                                    {
                                        "name": "Avg_Salary"
                                    }
                                ]
                            },
                            "data": [
                                {
                                    "Department": "HR",
                                    "Avg_Salary": "52666.666667"
                                },
                                {
                                    "Department": "IT",
                                    "Avg_Salary": "70333.333333"
                                },
                                {
                                    "Department": "Finance",
                                    "Avg_Salary": "59000.000000"
                                }
                            ]
                        },
                        "text/html": [
                            "<table>",
                            "<tr><th>Department</th><th>Avg_Salary</th></tr>",
                            "<tr><td>HR</td><td>52666.666667</td></tr>",
                            "<tr><td>IT</td><td>70333.333333</td></tr>",
                            "<tr><td>Finance</td><td>59000.000000</td></tr>",
                            "</table>"
                        ]
                    }
                }
            ],
            "execution_count": 10
        },
        {
            "cell_type": "code",
            "source": [
                "SELECT Department, SUM(Salary) AS Total_Salary\n",
                "FROM Employees\n",
                "GROUP BY Department;"
            ],
            "metadata": {
                "language": "sql",
                "azdata_cell_guid": "3cb65fd5-2ed3-4bf1-9ade-66efd21650f2"
            },
            "outputs": [
                {
                    "output_type": "display_data",
                    "data": {
                        "text/html": "(3 row(s) affected)"
                    },
                    "metadata": {}
                },
                {
                    "output_type": "display_data",
                    "data": {
                        "text/html": "Total execution time: 00:00:01.009"
                    },
                    "metadata": {}
                },
                {
                    "output_type": "execute_result",
                    "metadata": {},
                    "execution_count": 11,
                    "data": {
                        "application/vnd.dataresource+json": {
                            "schema": {
                                "fields": [
                                    {
                                        "name": "Department"
                                    },
                                    {
                                        "name": "Total_Salary"
                                    }
                                ]
                            },
                            "data": [
                                {
                                    "Department": "HR",
                                    "Total_Salary": "158000.00"
                                },
                                {
                                    "Department": "IT",
                                    "Total_Salary": "211000.00"
                                },
                                {
                                    "Department": "Finance",
                                    "Total_Salary": "118000.00"
                                }
                            ]
                        },
                        "text/html": [
                            "<table>",
                            "<tr><th>Department</th><th>Total_Salary</th></tr>",
                            "<tr><td>HR</td><td>158000.00</td></tr>",
                            "<tr><td>IT</td><td>211000.00</td></tr>",
                            "<tr><td>Finance</td><td>118000.00</td></tr>",
                            "</table>"
                        ]
                    }
                }
            ],
            "execution_count": 11
        },
        {
            "cell_type": "markdown",
            "source": [
                "## Using HAVING"
            ],
            "metadata": {
                "language": "sql",
                "azdata_cell_guid": "cdf8afb4-eaf2-451e-8a4c-a597f3be0a05"
            },
            "attachments": {}
        },
        {
            "cell_type": "code",
            "source": [
                "SELECT Department, AVG(Salary) AS Avg_Salary\n",
                "FROM Employees\n",
                "GROUP BY Department\n",
                "HAVING AVG(Salary) > 60000;"
            ],
            "metadata": {
                "language": "sql",
                "azdata_cell_guid": "8aeeb580-70ee-492a-8286-6b2ce0be0ef3"
            },
            "outputs": [
                {
                    "output_type": "display_data",
                    "data": {
                        "text/html": "(1 row(s) affected)"
                    },
                    "metadata": {}
                },
                {
                    "output_type": "display_data",
                    "data": {
                        "text/html": "Total execution time: 00:00:01.004"
                    },
                    "metadata": {}
                },
                {
                    "output_type": "execute_result",
                    "metadata": {},
                    "execution_count": 12,
                    "data": {
                        "application/vnd.dataresource+json": {
                            "schema": {
                                "fields": [
                                    {
                                        "name": "Department"
                                    },
                                    {
                                        "name": "Avg_Salary"
                                    }
                                ]
                            },
                            "data": [
                                {
                                    "Department": "IT",
                                    "Avg_Salary": "70333.333333"
                                }
                            ]
                        },
                        "text/html": [
                            "<table>",
                            "<tr><th>Department</th><th>Avg_Salary</th></tr>",
                            "<tr><td>IT</td><td>70333.333333</td></tr>",
                            "</table>"
                        ]
                    }
                }
            ],
            "execution_count": 12
        }
    ]
}