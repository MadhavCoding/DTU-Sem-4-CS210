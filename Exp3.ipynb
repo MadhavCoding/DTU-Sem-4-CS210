{
    "cells": [
        {
            "attachments": {},
            "cell_type": "markdown",
            "metadata": {
                "azdata_cell_guid": "b6faeb3d-a683-41fd-a6b6-d7d3ef1cc8b6"
            },
            "source": [
                "# **<u>DBMS Experiment 3</u>**"
            ]
        },
        {
            "cell_type": "code",
            "execution_count": 1,
            "metadata": {
                "azdata_cell_guid": "03661a91-f0d7-4f1a-9d9f-f4dc960b818f",
                "language": "sql"
            },
            "outputs": [
                {
                    "data": {
                        "text/html": [
                            "Commands completed successfully"
                        ]
                    },
                    "metadata": {},
                    "output_type": "display_data"
                },
                {
                    "data": {
                        "text/html": [
                            "Total execution time: 00:00:00.005"
                        ]
                    },
                    "metadata": {},
                    "output_type": "display_data"
                }
            ],
            "source": [
                "CREATE DATABASE CS210Exp3;"
            ]
        },
        {
            "cell_type": "code",
            "execution_count": 2,
            "metadata": {
                "azdata_cell_guid": "2612ed91-ad61-4dbc-9a5b-c34514c1b498",
                "language": "sql"
            },
            "outputs": [
                {
                    "data": {
                        "text/html": [
                            "Commands completed successfully"
                        ]
                    },
                    "metadata": {},
                    "output_type": "display_data"
                },
                {
                    "data": {
                        "text/html": [
                            "Total execution time: 00:00:00.004"
                        ]
                    },
                    "metadata": {},
                    "output_type": "display_data"
                }
            ],
            "source": [
                "USE CS210Exp3;"
            ]
        },
        {
            "cell_type": "code",
            "execution_count": 3,
            "metadata": {
                "azdata_cell_guid": "508b3c87-6f4f-4886-8db7-bc5d557de9b7",
                "language": "sql"
            },
            "outputs": [
                {
                    "data": {
                        "text/html": [
                            "Commands completed successfully"
                        ]
                    },
                    "metadata": {},
                    "output_type": "display_data"
                },
                {
                    "data": {
                        "text/html": [
                            "Total execution time: 00:00:00.025"
                        ]
                    },
                    "metadata": {},
                    "output_type": "display_data"
                }
            ],
            "source": [
                "CREATE TABLE Faculty(\n",
                "    ID INT PRIMARY KEY,\n",
                "    Name VARCHAR(50),\n",
                "    Department VARCHAR(50),\n",
                "    Salary INT\n",
                ");"
            ]
        },
        {
            "cell_type": "code",
            "execution_count": 4,
            "metadata": {
                "azdata_cell_guid": "414cbc27-3f99-449a-b763-4f589975e866",
                "language": "sql"
            },
            "outputs": [
                {
                    "data": {
                        "text/html": [
                            "(4 row(s) affected)"
                        ]
                    },
                    "metadata": {},
                    "output_type": "display_data"
                },
                {
                    "data": {
                        "text/html": [
                            "Total execution time: 00:00:01.012"
                        ]
                    },
                    "metadata": {},
                    "output_type": "display_data"
                },
                {
                    "data": {
                        "application/vnd.dataresource+json": {
                            "data": [
                                {
                                    "Default": "NULL",
                                    "Extra": "",
                                    "Field": "ID",
                                    "Key": "PRI",
                                    "Null": "NO",
                                    "Type": "b'int'"
                                },
                                {
                                    "Default": "NULL",
                                    "Extra": "",
                                    "Field": "Name",
                                    "Key": "",
                                    "Null": "YES",
                                    "Type": "b'varchar(50)'"
                                },
                                {
                                    "Default": "NULL",
                                    "Extra": "",
                                    "Field": "Department",
                                    "Key": "",
                                    "Null": "YES",
                                    "Type": "b'varchar(50)'"
                                },
                                {
                                    "Default": "NULL",
                                    "Extra": "",
                                    "Field": "Salary",
                                    "Key": "",
                                    "Null": "YES",
                                    "Type": "b'int'"
                                }
                            ],
                            "schema": {
                                "fields": [
                                    {
                                        "name": "Field"
                                    },
                                    {
                                        "name": "Type"
                                    },
                                    {
                                        "name": "Null"
                                    },
                                    {
                                        "name": "Key"
                                    },
                                    {
                                        "name": "Default"
                                    },
                                    {
                                        "name": "Extra"
                                    }
                                ]
                            }
                        },
                        "text/html": [
                            "<table>\n",
                            "<tr><th>Field</th><th>Type</th><th>Null</th><th>Key</th><th>Default</th><th>Extra</th></tr>\n",
                            "<tr><td>ID</td><td>b&#39;int&#39;</td><td>NO</td><td>PRI</td><td>NULL</td><td></td></tr>\n",
                            "<tr><td>Name</td><td>b&#39;varchar(50)&#39;</td><td>YES</td><td></td><td>NULL</td><td></td></tr>\n",
                            "<tr><td>Department</td><td>b&#39;varchar(50)&#39;</td><td>YES</td><td></td><td>NULL</td><td></td></tr>\n",
                            "<tr><td>Salary</td><td>b&#39;int&#39;</td><td>YES</td><td></td><td>NULL</td><td></td></tr>\n",
                            "</table>"
                        ]
                    },
                    "execution_count": 4,
                    "metadata": {},
                    "output_type": "execute_result"
                }
            ],
            "source": [
                "DESCRIBE Faculty;"
            ]
        },
        {
            "cell_type": "code",
            "execution_count": 7,
            "metadata": {
                "azdata_cell_guid": "63aaaac1-9e87-44ed-9f11-3069682aa4f3",
                "language": "sql"
            },
            "outputs": [
                {
                    "data": {
                        "text/html": [
                            "Commands completed successfully"
                        ]
                    },
                    "metadata": {},
                    "output_type": "display_data"
                },
                {
                    "data": {
                        "text/html": [
                            "Commands completed successfully"
                        ]
                    },
                    "metadata": {},
                    "output_type": "display_data"
                },
                {
                    "data": {
                        "text/html": [
                            "Commands completed successfully"
                        ]
                    },
                    "metadata": {},
                    "output_type": "display_data"
                },
                {
                    "data": {
                        "text/html": [
                            "Commands completed successfully"
                        ]
                    },
                    "metadata": {},
                    "output_type": "display_data"
                },
                {
                    "data": {
                        "text/html": [
                            "Total execution time: 00:00:00.018"
                        ]
                    },
                    "metadata": {},
                    "output_type": "display_data"
                }
            ],
            "source": [
                "INSERT INTO Faculty (ID, Name, Department, Salary) VALUES (1101, 'Dr Madhav Mishra', 'CSE', 250000);\n",
                "INSERT INTO Faculty (ID, Name, Department, Salary) VALUES (1102, 'Dr Kshitij Sinha', 'CSE', 200000);\n",
                "INSERT INTO Faculty (ID, Name, Department, Salary) VALUES (1103, 'Dr Kunal Bansal', 'ECE', 100000);\n",
                "INSERT INTO Faculty (ID, Name, Department, Salary) VALUES (1104, 'Dr Neal Saxena', 'CSE', 30000);"
            ]
        },
        {
            "cell_type": "code",
            "execution_count": 8,
            "metadata": {
                "azdata_cell_guid": "7a4b91d7-2280-4c94-b70f-0384a70c339a",
                "language": "sql"
            },
            "outputs": [
                {
                    "data": {
                        "text/html": [
                            "(4 row(s) affected)"
                        ]
                    },
                    "metadata": {},
                    "output_type": "display_data"
                },
                {
                    "data": {
                        "text/html": [
                            "Total execution time: 00:00:01.006"
                        ]
                    },
                    "metadata": {},
                    "output_type": "display_data"
                },
                {
                    "data": {
                        "application/vnd.dataresource+json": {
                            "data": [
                                {
                                    "Department": "CSE",
                                    "ID": "1101",
                                    "Name": "Dr Madhav Mishra",
                                    "Salary": "250000"
                                },
                                {
                                    "Department": "CSE",
                                    "ID": "1102",
                                    "Name": "Dr Kshitij Sinha",
                                    "Salary": "200000"
                                },
                                {
                                    "Department": "ECE",
                                    "ID": "1103",
                                    "Name": "Dr Kunal Bansal",
                                    "Salary": "100000"
                                },
                                {
                                    "Department": "CSE",
                                    "ID": "1104",
                                    "Name": "Dr Neal Saxena",
                                    "Salary": "30000"
                                }
                            ],
                            "schema": {
                                "fields": [
                                    {
                                        "name": "ID"
                                    },
                                    {
                                        "name": "Name"
                                    },
                                    {
                                        "name": "Department"
                                    },
                                    {
                                        "name": "Salary"
                                    }
                                ]
                            }
                        },
                        "text/html": [
                            "<table>\n",
                            "<tr><th>ID</th><th>Name</th><th>Department</th><th>Salary</th></tr>\n",
                            "<tr><td>1101</td><td>Dr Madhav Mishra</td><td>CSE</td><td>250000</td></tr>\n",
                            "<tr><td>1102</td><td>Dr Kshitij Sinha</td><td>CSE</td><td>200000</td></tr>\n",
                            "<tr><td>1103</td><td>Dr Kunal Bansal</td><td>ECE</td><td>100000</td></tr>\n",
                            "<tr><td>1104</td><td>Dr Neal Saxena</td><td>CSE</td><td>30000</td></tr>\n",
                            "</table>"
                        ]
                    },
                    "execution_count": 8,
                    "metadata": {},
                    "output_type": "execute_result"
                }
            ],
            "source": [
                "SELECT * FROM Faculty;"
            ]
        },
        {
            "cell_type": "code",
            "execution_count": 9,
            "metadata": {
                "azdata_cell_guid": "d2ecd8e6-a111-4d51-a3c2-5fa91364e76f",
                "language": "sql"
            },
            "outputs": [
                {
                    "data": {
                        "text/html": [
                            "Commands completed successfully"
                        ]
                    },
                    "metadata": {},
                    "output_type": "display_data"
                },
                {
                    "data": {
                        "text/html": [
                            "Total execution time: 00:00:00.007"
                        ]
                    },
                    "metadata": {},
                    "output_type": "display_data"
                }
            ],
            "source": [
                "UPDATE Faculty SET Salary = 300000 WHERE Name = 'Dr Neal Saxena';"
            ]
        },
        {
            "cell_type": "code",
            "execution_count": 10,
            "metadata": {
                "azdata_cell_guid": "d13270f7-2578-4208-b649-e7d59357e50e",
                "language": "sql"
            },
            "outputs": [
                {
                    "data": {
                        "text/html": [
                            "(4 row(s) affected)"
                        ]
                    },
                    "metadata": {},
                    "output_type": "display_data"
                },
                {
                    "data": {
                        "text/html": [
                            "Total execution time: 00:00:01.012"
                        ]
                    },
                    "metadata": {},
                    "output_type": "display_data"
                },
                {
                    "data": {
                        "application/vnd.dataresource+json": {
                            "data": [
                                {
                                    "Department": "CSE",
                                    "ID": "1101",
                                    "Name": "Dr Madhav Mishra",
                                    "Salary": "250000"
                                },
                                {
                                    "Department": "CSE",
                                    "ID": "1102",
                                    "Name": "Dr Kshitij Sinha",
                                    "Salary": "200000"
                                },
                                {
                                    "Department": "ECE",
                                    "ID": "1103",
                                    "Name": "Dr Kunal Bansal",
                                    "Salary": "100000"
                                },
                                {
                                    "Department": "CSE",
                                    "ID": "1104",
                                    "Name": "Dr Neal Saxena",
                                    "Salary": "300000"
                                }
                            ],
                            "schema": {
                                "fields": [
                                    {
                                        "name": "ID"
                                    },
                                    {
                                        "name": "Name"
                                    },
                                    {
                                        "name": "Department"
                                    },
                                    {
                                        "name": "Salary"
                                    }
                                ]
                            }
                        },
                        "text/html": [
                            "<table>\n",
                            "<tr><th>ID</th><th>Name</th><th>Department</th><th>Salary</th></tr>\n",
                            "<tr><td>1101</td><td>Dr Madhav Mishra</td><td>CSE</td><td>250000</td></tr>\n",
                            "<tr><td>1102</td><td>Dr Kshitij Sinha</td><td>CSE</td><td>200000</td></tr>\n",
                            "<tr><td>1103</td><td>Dr Kunal Bansal</td><td>ECE</td><td>100000</td></tr>\n",
                            "<tr><td>1104</td><td>Dr Neal Saxena</td><td>CSE</td><td>300000</td></tr>\n",
                            "</table>"
                        ]
                    },
                    "execution_count": 10,
                    "metadata": {},
                    "output_type": "execute_result"
                }
            ],
            "source": [
                "SELECT * FROM Faculty"
            ]
        },
        {
            "cell_type": "code",
            "execution_count": 11,
            "metadata": {
                "azdata_cell_guid": "184bbe48-467b-4087-ada6-92edefeeddb8",
                "language": "sql"
            },
            "outputs": [
                {
                    "data": {
                        "text/html": [
                            "Commands completed successfully"
                        ]
                    },
                    "metadata": {},
                    "output_type": "display_data"
                },
                {
                    "data": {
                        "text/html": [
                            "Total execution time: 00:00:00.006"
                        ]
                    },
                    "metadata": {},
                    "output_type": "display_data"
                }
            ],
            "source": [
                "DELETE FROM Faculty WHERE Department = 'ECE';"
            ]
        },
        {
            "cell_type": "code",
            "execution_count": 12,
            "metadata": {
                "azdata_cell_guid": "caaac5e3-23a8-4961-bdac-4474b643789f",
                "language": "sql"
            },
            "outputs": [
                {
                    "data": {
                        "text/html": [
                            "(3 row(s) affected)"
                        ]
                    },
                    "metadata": {},
                    "output_type": "display_data"
                },
                {
                    "data": {
                        "text/html": [
                            "Total execution time: 00:00:01.008"
                        ]
                    },
                    "metadata": {},
                    "output_type": "display_data"
                },
                {
                    "data": {
                        "application/vnd.dataresource+json": {
                            "data": [
                                {
                                    "Department": "CSE",
                                    "ID": "1101",
                                    "Name": "Dr Madhav Mishra",
                                    "Salary": "250000"
                                },
                                {
                                    "Department": "CSE",
                                    "ID": "1102",
                                    "Name": "Dr Kshitij Sinha",
                                    "Salary": "200000"
                                },
                                {
                                    "Department": "CSE",
                                    "ID": "1104",
                                    "Name": "Dr Neal Saxena",
                                    "Salary": "300000"
                                }
                            ],
                            "schema": {
                                "fields": [
                                    {
                                        "name": "ID"
                                    },
                                    {
                                        "name": "Name"
                                    },
                                    {
                                        "name": "Department"
                                    },
                                    {
                                        "name": "Salary"
                                    }
                                ]
                            }
                        },
                        "text/html": [
                            "<table>\n",
                            "<tr><th>ID</th><th>Name</th><th>Department</th><th>Salary</th></tr>\n",
                            "<tr><td>1101</td><td>Dr Madhav Mishra</td><td>CSE</td><td>250000</td></tr>\n",
                            "<tr><td>1102</td><td>Dr Kshitij Sinha</td><td>CSE</td><td>200000</td></tr>\n",
                            "<tr><td>1104</td><td>Dr Neal Saxena</td><td>CSE</td><td>300000</td></tr>\n",
                            "</table>"
                        ]
                    },
                    "execution_count": 12,
                    "metadata": {},
                    "output_type": "execute_result"
                }
            ],
            "source": [
                "SELECT * FROM Faculty;"
            ]
        },
        {
            "cell_type": "code",
            "execution_count": 13,
            "metadata": {
                "azdata_cell_guid": "1b9d44d2-5173-4b97-9954-088d6db52a52",
                "language": "sql"
            },
            "outputs": [
                {
                    "data": {
                        "text/html": [
                            "(3 row(s) affected)"
                        ]
                    },
                    "metadata": {},
                    "output_type": "display_data"
                },
                {
                    "data": {
                        "text/html": [
                            "Total execution time: 00:00:01.005"
                        ]
                    },
                    "metadata": {},
                    "output_type": "display_data"
                },
                {
                    "data": {
                        "application/vnd.dataresource+json": {
                            "data": [
                                {
                                    "Name": "Dr Madhav Mishra",
                                    "Salary": "250000"
                                },
                                {
                                    "Name": "Dr Kshitij Sinha",
                                    "Salary": "200000"
                                },
                                {
                                    "Name": "Dr Neal Saxena",
                                    "Salary": "300000"
                                }
                            ],
                            "schema": {
                                "fields": [
                                    {
                                        "name": "Name"
                                    },
                                    {
                                        "name": "Salary"
                                    }
                                ]
                            }
                        },
                        "text/html": [
                            "<table>\n",
                            "<tr><th>Name</th><th>Salary</th></tr>\n",
                            "<tr><td>Dr Madhav Mishra</td><td>250000</td></tr>\n",
                            "<tr><td>Dr Kshitij Sinha</td><td>200000</td></tr>\n",
                            "<tr><td>Dr Neal Saxena</td><td>300000</td></tr>\n",
                            "</table>"
                        ]
                    },
                    "execution_count": 13,
                    "metadata": {},
                    "output_type": "execute_result"
                }
            ],
            "source": [
                "SELECT Name, Salary FROM Faculty;"
            ]
        },
        {
            "cell_type": "code",
            "execution_count": 14,
            "metadata": {
                "azdata_cell_guid": "df0b440b-3e16-4a4f-b784-cf1c49a71d89",
                "language": "sql"
            },
            "outputs": [
                {
                    "data": {
                        "text/html": [
                            "(3 row(s) affected)"
                        ]
                    },
                    "metadata": {},
                    "output_type": "display_data"
                },
                {
                    "data": {
                        "text/html": [
                            "Total execution time: 00:00:01.009"
                        ]
                    },
                    "metadata": {},
                    "output_type": "display_data"
                },
                {
                    "data": {
                        "application/vnd.dataresource+json": {
                            "data": [
                                {
                                    "ID": "1101",
                                    "Name": "Dr Madhav Mishra"
                                },
                                {
                                    "ID": "1102",
                                    "Name": "Dr Kshitij Sinha"
                                },
                                {
                                    "ID": "1104",
                                    "Name": "Dr Neal Saxena"
                                }
                            ],
                            "schema": {
                                "fields": [
                                    {
                                        "name": "ID"
                                    },
                                    {
                                        "name": "Name"
                                    }
                                ]
                            }
                        },
                        "text/html": [
                            "<table>\n",
                            "<tr><th>ID</th><th>Name</th></tr>\n",
                            "<tr><td>1101</td><td>Dr Madhav Mishra</td></tr>\n",
                            "<tr><td>1102</td><td>Dr Kshitij Sinha</td></tr>\n",
                            "<tr><td>1104</td><td>Dr Neal Saxena</td></tr>\n",
                            "</table>"
                        ]
                    },
                    "execution_count": 14,
                    "metadata": {},
                    "output_type": "execute_result"
                }
            ],
            "source": [
                "SELECT ID, Name FROM Faculty;"
            ]
        }
    ],
    "metadata": {
        "kernelspec": {
            "display_name": "SQL",
            "language": "sql",
            "name": "SQL"
        },
        "language_info": {
            "name": "sql",
            "version": ""
        }
    },
    "nbformat": 4,
    "nbformat_minor": 2
}
