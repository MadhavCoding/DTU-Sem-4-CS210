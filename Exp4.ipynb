{
    "metadata": {
        "kernelspec": {
            "name": "SQL",
            "display_name": "SQL",
            "language": "sql"
        },
        "language_info": {
            "name": "sql",
            "version": ""
        }
    },
    "nbformat_minor": 2,
    "nbformat": 4,
    "cells": [
        {
            "cell_type": "markdown",
            "source": [
                "# **<u>DBMS Experiment 4</u>**"
            ],
            "metadata": {
                "azdata_cell_guid": "cfff2d32-340b-4bbe-a239-c3bee68f9be7"
            },
            "attachments": {}
        },
        {
            "cell_type": "code",
            "source": [
                "CREATE DATABASE CS210Exp4;"
            ],
            "metadata": {
                "azdata_cell_guid": "9ca13201-d716-469b-bace-7c5f861a0c20",
                "language": "sql"
            },
            "outputs": [
                {
                    "output_type": "display_data",
                    "data": {
                        "text/html": "Commands completed successfully"
                    },
                    "metadata": {}
                },
                {
                    "output_type": "display_data",
                    "data": {
                        "text/html": "Total execution time: 00:00:00.002"
                    },
                    "metadata": {}
                }
            ],
            "execution_count": 1
        },
        {
            "cell_type": "code",
            "source": [
                "USE CS210Exp4;"
            ],
            "metadata": {
                "language": "sql",
                "azdata_cell_guid": "5673390d-47ed-4a1e-a795-d1f572bff0fc"
            },
            "outputs": [
                {
                    "output_type": "display_data",
                    "data": {
                        "text/html": "Commands completed successfully"
                    },
                    "metadata": {}
                },
                {
                    "output_type": "display_data",
                    "data": {
                        "text/html": "Total execution time: 00:00:00.002"
                    },
                    "metadata": {}
                }
            ],
            "execution_count": 2
        },
        {
            "cell_type": "code",
            "source": [
                "CREATE TABLE students (\n",
                "    student_id INT PRIMARY KEY,\n",
                "    name VARCHAR(50),\n",
                "    age INT,\n",
                "    department VARCHAR(50)\n",
                ");"
            ],
            "metadata": {
                "language": "sql",
                "azdata_cell_guid": "9b4ff1e3-963a-47d7-8001-1cd9820cac61"
            },
            "outputs": [
                {
                    "output_type": "display_data",
                    "data": {
                        "text/html": "Commands completed successfully"
                    },
                    "metadata": {}
                },
                {
                    "output_type": "display_data",
                    "data": {
                        "text/html": "Total execution time: 00:00:00.010"
                    },
                    "metadata": {}
                }
            ],
            "execution_count": 12
        },
        {
            "cell_type": "code",
            "source": [
                "CREATE TABLE subjects (\n",
                "    subject_id INT PRIMARY KEY,\n",
                "    student_id INT,\n",
                "    subject_name VARCHAR(50),\n",
                "    marks INT,\n",
                "    FOREIGN KEY (student_id) REFERENCES students(student_id)\n",
                ");"
            ],
            "metadata": {
                "language": "sql",
                "azdata_cell_guid": "7871c80c-3dbf-4966-b476-92b44b42b532"
            },
            "outputs": [
                {
                    "output_type": "display_data",
                    "data": {
                        "text/html": "Commands completed successfully"
                    },
                    "metadata": {}
                },
                {
                    "output_type": "display_data",
                    "data": {
                        "text/html": "Total execution time: 00:00:00.020"
                    },
                    "metadata": {}
                }
            ],
            "execution_count": 13
        },
        {
            "cell_type": "code",
            "source": [
                "INSERT INTO students VALUES\n",
                "(1, 'Ram', 20, 'Computer Science'),\n",
                "(2, 'Shyam', 21, 'Electrical Engineering'),\n",
                "(3, 'Rohan', 22, 'Mechanical Engineering'),\n",
                "(4, 'Sohan', 20, 'Computer Science');"
            ],
            "metadata": {
                "language": "sql",
                "azdata_cell_guid": "b6c3c3d5-7a5d-4b75-9d7c-c83faf4de354"
            },
            "outputs": [
                {
                    "output_type": "display_data",
                    "data": {
                        "text/html": "Commands completed successfully"
                    },
                    "metadata": {}
                },
                {
                    "output_type": "display_data",
                    "data": {
                        "text/html": "Total execution time: 00:00:00.006"
                    },
                    "metadata": {}
                }
            ],
            "execution_count": 14
        },
        {
            "cell_type": "code",
            "source": [
                "INSERT INTO subjects VALUES\n",
                "(101, 1, 'Math', 85),\n",
                "(102, 1, 'Physics', 78),\n",
                "(103, 2, 'Math', 90),\n",
                "(104, 2, 'Electronics', 82),\n",
                "(105, 3, 'Math', 88),\n",
                "(106, 4, 'Computer Networks', 80);"
            ],
            "metadata": {
                "language": "sql",
                "azdata_cell_guid": "df31d872-fc79-4c7b-b4a0-fb6141d4b3cc"
            },
            "outputs": [
                {
                    "output_type": "display_data",
                    "data": {
                        "text/html": "Commands completed successfully"
                    },
                    "metadata": {}
                },
                {
                    "output_type": "display_data",
                    "data": {
                        "text/html": "Total execution time: 00:00:00.007"
                    },
                    "metadata": {}
                }
            ],
            "execution_count": 15
        },
        {
            "cell_type": "markdown",
            "source": [
                "## Using WHERE Clause"
            ],
            "metadata": {
                "language": "sql",
                "azdata_cell_guid": "993ab883-192b-45c9-aab6-39b05a6ba240"
            },
            "attachments": {}
        },
        {
            "cell_type": "code",
            "source": [
                "SELECT * \n",
                "FROM students\n",
                "WHERE department = 'Computer Science';"
            ],
            "metadata": {
                "language": "sql",
                "azdata_cell_guid": "b851a906-e64d-4b9e-a7a5-98d3942523e0"
            },
            "outputs": [
                {
                    "output_type": "display_data",
                    "data": {
                        "text/html": "(2 row(s) affected)"
                    },
                    "metadata": {}
                },
                {
                    "output_type": "display_data",
                    "data": {
                        "text/html": "Total execution time: 00:00:01.012"
                    },
                    "metadata": {}
                },
                {
                    "output_type": "execute_result",
                    "metadata": {},
                    "execution_count": 16,
                    "data": {
                        "application/vnd.dataresource+json": {
                            "schema": {
                                "fields": [
                                    {
                                        "name": "student_id"
                                    },
                                    {
                                        "name": "name"
                                    },
                                    {
                                        "name": "age"
                                    },
                                    {
                                        "name": "department"
                                    }
                                ]
                            },
                            "data": [
                                {
                                    "student_id": "1",
                                    "name": "Ram",
                                    "age": "20",
                                    "department": "Computer Science"
                                },
                                {
                                    "student_id": "4",
                                    "name": "Sohan",
                                    "age": "20",
                                    "department": "Computer Science"
                                }
                            ]
                        },
                        "text/html": [
                            "<table>",
                            "<tr><th>student_id</th><th>name</th><th>age</th><th>department</th></tr>",
                            "<tr><td>1</td><td>Ram</td><td>20</td><td>Computer Science</td></tr>",
                            "<tr><td>4</td><td>Sohan</td><td>20</td><td>Computer Science</td></tr>",
                            "</table>"
                        ]
                    }
                }
            ],
            "execution_count": 16
        },
        {
            "cell_type": "markdown",
            "source": [
                "## Using ORDER BY Clause"
            ],
            "metadata": {
                "language": "sql",
                "azdata_cell_guid": "4ea92cdc-6e3c-4882-ba7c-07a8f5e3e32a"
            },
            "attachments": {}
        },
        {
            "cell_type": "code",
            "source": [
                "SELECT name, age\n",
                "FROM students\n",
                "ORDER BY age DESC;"
            ],
            "metadata": {
                "language": "sql",
                "azdata_cell_guid": "393c0803-0f96-4770-983d-5e87b26c7076"
            },
            "outputs": [
                {
                    "output_type": "display_data",
                    "data": {
                        "text/html": "(4 row(s) affected)"
                    },
                    "metadata": {}
                },
                {
                    "output_type": "display_data",
                    "data": {
                        "text/html": "Total execution time: 00:00:01.009"
                    },
                    "metadata": {}
                },
                {
                    "output_type": "execute_result",
                    "metadata": {},
                    "execution_count": 17,
                    "data": {
                        "application/vnd.dataresource+json": {
                            "schema": {
                                "fields": [
                                    {
                                        "name": "name"
                                    },
                                    {
                                        "name": "age"
                                    }
                                ]
                            },
                            "data": [
                                {
                                    "name": "Rohan",
                                    "age": "22"
                                },
                                {
                                    "name": "Shyam",
                                    "age": "21"
                                },
                                {
                                    "name": "Ram",
                                    "age": "20"
                                },
                                {
                                    "name": "Sohan",
                                    "age": "20"
                                }
                            ]
                        },
                        "text/html": [
                            "<table>",
                            "<tr><th>name</th><th>age</th></tr>",
                            "<tr><td>Rohan</td><td>22</td></tr>",
                            "<tr><td>Shyam</td><td>21</td></tr>",
                            "<tr><td>Ram</td><td>20</td></tr>",
                            "<tr><td>Sohan</td><td>20</td></tr>",
                            "</table>"
                        ]
                    }
                }
            ],
            "execution_count": 17
        },
        {
            "cell_type": "markdown",
            "source": [
                "## Using GROUP BY Clause"
            ],
            "metadata": {
                "language": "sql",
                "azdata_cell_guid": "5f9df7c6-bdd3-4afa-98d0-faf6ce68ef6d"
            },
            "attachments": {}
        },
        {
            "cell_type": "code",
            "source": [
                "SELECT student_id, AVG(marks) AS average_marks\n",
                "FROM subjects\n",
                "GROUP BY student_id;"
            ],
            "metadata": {
                "language": "sql",
                "azdata_cell_guid": "6439c1f3-816c-47fa-b8ee-1e4ffee1d99d",
                "tags": [
                    "hide_input"
                ]
            },
            "outputs": [
                {
                    "output_type": "display_data",
                    "data": {
                        "text/html": "(4 row(s) affected)"
                    },
                    "metadata": {}
                },
                {
                    "output_type": "display_data",
                    "data": {
                        "text/html": "Total execution time: 00:00:01.008"
                    },
                    "metadata": {}
                },
                {
                    "output_type": "execute_result",
                    "metadata": {},
                    "execution_count": 18,
                    "data": {
                        "application/vnd.dataresource+json": {
                            "schema": {
                                "fields": [
                                    {
                                        "name": "student_id"
                                    },
                                    {
                                        "name": "average_marks"
                                    }
                                ]
                            },
                            "data": [
                                {
                                    "student_id": "1",
                                    "average_marks": "81.5000"
                                },
                                {
                                    "student_id": "2",
                                    "average_marks": "86.0000"
                                },
                                {
                                    "student_id": "3",
                                    "average_marks": "88.0000"
                                },
                                {
                                    "student_id": "4",
                                    "average_marks": "80.0000"
                                }
                            ]
                        },
                        "text/html": [
                            "<table>",
                            "<tr><th>student_id</th><th>average_marks</th></tr>",
                            "<tr><td>1</td><td>81.5000</td></tr>",
                            "<tr><td>2</td><td>86.0000</td></tr>",
                            "<tr><td>3</td><td>88.0000</td></tr>",
                            "<tr><td>4</td><td>80.0000</td></tr>",
                            "</table>"
                        ]
                    }
                }
            ],
            "execution_count": 18
        },
        {
            "cell_type": "markdown",
            "source": [
                "## Using HAVING Clause"
            ],
            "metadata": {
                "language": "sql",
                "azdata_cell_guid": "c7d8dc1d-8f34-4e87-95ba-7e2ce1ef019b"
            },
            "attachments": {}
        },
        {
            "cell_type": "code",
            "source": [
                "SELECT student_id, AVG(marks) AS average_marks\n",
                "FROM subjects\n",
                "GROUP BY student_id\n",
                "HAVING AVG(marks) > 80;"
            ],
            "metadata": {
                "language": "sql",
                "azdata_cell_guid": "6763aab6-b519-4ac7-9c13-5484b43d8740"
            },
            "outputs": [
                {
                    "output_type": "display_data",
                    "data": {
                        "text/html": "(3 row(s) affected)"
                    },
                    "metadata": {}
                },
                {
                    "output_type": "display_data",
                    "data": {
                        "text/html": "Total execution time: 00:00:01.009"
                    },
                    "metadata": {}
                },
                {
                    "output_type": "execute_result",
                    "metadata": {},
                    "execution_count": 19,
                    "data": {
                        "application/vnd.dataresource+json": {
                            "schema": {
                                "fields": [
                                    {
                                        "name": "student_id"
                                    },
                                    {
                                        "name": "average_marks"
                                    }
                                ]
                            },
                            "data": [
                                {
                                    "student_id": "1",
                                    "average_marks": "81.5000"
                                },
                                {
                                    "student_id": "2",
                                    "average_marks": "86.0000"
                                },
                                {
                                    "student_id": "3",
                                    "average_marks": "88.0000"
                                }
                            ]
                        },
                        "text/html": [
                            "<table>",
                            "<tr><th>student_id</th><th>average_marks</th></tr>",
                            "<tr><td>1</td><td>81.5000</td></tr>",
                            "<tr><td>2</td><td>86.0000</td></tr>",
                            "<tr><td>3</td><td>88.0000</td></tr>",
                            "</table>"
                        ]
                    }
                }
            ],
            "execution_count": 19
        },
        {
            "cell_type": "markdown",
            "source": [
                "## Using UNION"
            ],
            "metadata": {
                "language": "sql",
                "azdata_cell_guid": "8515fd2a-89f0-4d34-846a-25db65938b16"
            },
            "attachments": {}
        },
        {
            "cell_type": "code",
            "source": [
                "SELECT name AS result FROM students\n",
                "UNION\n",
                "SELECT subject_name FROM subjects;"
            ],
            "metadata": {
                "language": "sql",
                "azdata_cell_guid": "5423d747-4bb1-4e80-be66-ed71da7c6901"
            },
            "outputs": [
                {
                    "output_type": "display_data",
                    "data": {
                        "text/html": "(8 row(s) affected)"
                    },
                    "metadata": {}
                },
                {
                    "output_type": "display_data",
                    "data": {
                        "text/html": "Total execution time: 00:00:01.007"
                    },
                    "metadata": {}
                },
                {
                    "output_type": "execute_result",
                    "metadata": {},
                    "execution_count": 20,
                    "data": {
                        "application/vnd.dataresource+json": {
                            "schema": {
                                "fields": [
                                    {
                                        "name": "result"
                                    }
                                ]
                            },
                            "data": [
                                {
                                    "result": "Ram"
                                },
                                {
                                    "result": "Shyam"
                                },
                                {
                                    "result": "Rohan"
                                },
                                {
                                    "result": "Sohan"
                                },
                                {
                                    "result": "Math"
                                },
                                {
                                    "result": "Physics"
                                },
                                {
                                    "result": "Electronics"
                                },
                                {
                                    "result": "Computer Networks"
                                }
                            ]
                        },
                        "text/html": [
                            "<table>",
                            "<tr><th>result</th></tr>",
                            "<tr><td>Ram</td></tr>",
                            "<tr><td>Shyam</td></tr>",
                            "<tr><td>Rohan</td></tr>",
                            "<tr><td>Sohan</td></tr>",
                            "<tr><td>Math</td></tr>",
                            "<tr><td>Physics</td></tr>",
                            "<tr><td>Electronics</td></tr>",
                            "<tr><td>Computer Networks</td></tr>",
                            "</table>"
                        ]
                    }
                }
            ],
            "execution_count": 20
        },
        {
            "cell_type": "markdown",
            "source": [
                "## Using INTERSECT"
            ],
            "metadata": {
                "azdata_cell_guid": "723cb4fd-caae-41d7-8782-5ecb75fb9297"
            },
            "attachments": {}
        },
        {
            "cell_type": "code",
            "source": [
                "SELECT student_id \n",
                "FROM subjects\n",
                "WHERE subject_name = 'Math'\n",
                "AND student_id IN (\n",
                "    SELECT student_id \n",
                "    FROM subjects \n",
                "    WHERE subject_name = 'Physics'\n",
                ");"
            ],
            "metadata": {
                "language": "sql",
                "azdata_cell_guid": "365a0ec3-afd5-435f-8dd7-4d01e9ad770f"
            },
            "outputs": [
                {
                    "output_type": "display_data",
                    "data": {
                        "text/html": "(1 row(s) affected)"
                    },
                    "metadata": {}
                },
                {
                    "output_type": "display_data",
                    "data": {
                        "text/html": "Total execution time: 00:00:01.008"
                    },
                    "metadata": {}
                },
                {
                    "output_type": "execute_result",
                    "metadata": {},
                    "execution_count": 21,
                    "data": {
                        "application/vnd.dataresource+json": {
                            "schema": {
                                "fields": [
                                    {
                                        "name": "student_id"
                                    }
                                ]
                            },
                            "data": [
                                {
                                    "student_id": "1"
                                }
                            ]
                        },
                        "text/html": [
                            "<table>",
                            "<tr><th>student_id</th></tr>",
                            "<tr><td>1</td></tr>",
                            "</table>"
                        ]
                    }
                }
            ],
            "execution_count": 21
        },
        {
            "cell_type": "markdown",
            "source": [
                "## Using EXCEPT"
            ],
            "metadata": {
                "language": "sql",
                "azdata_cell_guid": "dbe5060e-61e0-4091-86e9-ec041f6b53d0"
            },
            "attachments": {}
        },
        {
            "cell_type": "code",
            "source": [
                "SELECT student_id \n",
                "FROM subjects \n",
                "WHERE subject_name = 'Math'\n",
                "AND student_id NOT IN (\n",
                "    SELECT student_id \n",
                "    FROM subjects \n",
                "    WHERE subject_name = 'Physics'\n",
                ");"
            ],
            "metadata": {
                "language": "sql",
                "azdata_cell_guid": "3960cd7e-78c7-4a04-afb5-7baa6465c481"
            },
            "outputs": [
                {
                    "output_type": "display_data",
                    "data": {
                        "text/html": "(2 row(s) affected)"
                    },
                    "metadata": {}
                },
                {
                    "output_type": "display_data",
                    "data": {
                        "text/html": "Total execution time: 00:00:01.006"
                    },
                    "metadata": {}
                },
                {
                    "output_type": "execute_result",
                    "metadata": {},
                    "execution_count": 22,
                    "data": {
                        "application/vnd.dataresource+json": {
                            "schema": {
                                "fields": [
                                    {
                                        "name": "student_id"
                                    }
                                ]
                            },
                            "data": [
                                {
                                    "student_id": "2"
                                },
                                {
                                    "student_id": "3"
                                }
                            ]
                        },
                        "text/html": [
                            "<table>",
                            "<tr><th>student_id</th></tr>",
                            "<tr><td>2</td></tr>",
                            "<tr><td>3</td></tr>",
                            "</table>"
                        ]
                    }
                }
            ],
            "execution_count": 22
        }
    ]
}