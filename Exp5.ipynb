{
    "metadata": {
        "kernelspec": {
            "name": "SQL",
            "display_name": "SQL",
            "language": "sql"
        },
        "language_info": {
            "name": "sql",
            "version": ""
        }
    },
    "nbformat_minor": 2,
    "nbformat": 4,
    "cells": [
        {
            "cell_type": "markdown",
            "source": [
                "# **<u>DBMS Experiment 5</u>**"
            ],
            "metadata": {
                "azdata_cell_guid": "3d98469a-1336-45a9-b2ab-f8dfc146c593"
            },
            "attachments": {}
        },
        {
            "cell_type": "code",
            "source": [
                "CREATE DATABASE CS210Exp5;"
            ],
            "metadata": {
                "azdata_cell_guid": "6cc7ee74-80b8-4a77-a56b-ffd4d9e3c0db",
                "language": "sql"
            },
            "outputs": [
                {
                    "output_type": "display_data",
                    "data": {
                        "text/html": "Commands completed successfully"
                    },
                    "metadata": {}
                },
                {
                    "output_type": "display_data",
                    "data": {
                        "text/html": "Total execution time: 00:00:00.004"
                    },
                    "metadata": {}
                }
            ],
            "execution_count": 1
        },
        {
            "cell_type": "code",
            "source": [
                "USE CS210Exp5;"
            ],
            "metadata": {
                "language": "sql",
                "azdata_cell_guid": "9d1d7abd-e810-4925-a5b5-091f915da83a"
            },
            "outputs": [
                {
                    "output_type": "display_data",
                    "data": {
                        "text/html": "Commands completed successfully"
                    },
                    "metadata": {}
                },
                {
                    "output_type": "display_data",
                    "data": {
                        "text/html": "Total execution time: 00:00:00.003"
                    },
                    "metadata": {}
                }
            ],
            "execution_count": 2
        },
        {
            "cell_type": "code",
            "source": [
                "CREATE TABLE students (\n",
                "    student_id INT PRIMARY KEY,\n",
                "    name VARCHAR(50),\n",
                "    age INT,\n",
                "    department VARCHAR(50),\n",
                "    enrollment_date DATE\n",
                ");"
            ],
            "metadata": {
                "language": "sql",
                "azdata_cell_guid": "1ed533df-03e1-4984-8b65-f16da4828829"
            },
            "outputs": [
                {
                    "output_type": "display_data",
                    "data": {
                        "text/html": "Commands completed successfully"
                    },
                    "metadata": {}
                },
                {
                    "output_type": "display_data",
                    "data": {
                        "text/html": "Total execution time: 00:00:00.014"
                    },
                    "metadata": {}
                }
            ],
            "execution_count": 18
        },
        {
            "cell_type": "code",
            "source": [
                "CREATE TABLE subjects (\n",
                "    subject_id INT PRIMARY KEY,\n",
                "    student_id INT,\n",
                "    subject_name VARCHAR(50),\n",
                "    marks INT,\n",
                "    FOREIGN KEY (student_id) REFERENCES students(student_id)\n",
                ");"
            ],
            "metadata": {
                "language": "sql",
                "azdata_cell_guid": "7c63509e-c65e-4dbb-96bb-4ed29b732216"
            },
            "outputs": [
                {
                    "output_type": "display_data",
                    "data": {
                        "text/html": "Commands completed successfully"
                    },
                    "metadata": {}
                },
                {
                    "output_type": "display_data",
                    "data": {
                        "text/html": "Total execution time: 00:00:00.017"
                    },
                    "metadata": {}
                }
            ],
            "execution_count": 19
        },
        {
            "cell_type": "code",
            "source": [
                "INSERT INTO students VALUES\n",
                "(1, 'Ram Kumar', 20, 'Computer Science', '2022-08-10'),\n",
                "(2, 'Shyam Singh', 21, 'Electrical Engineering', '2021-09-15'),\n",
                "(3, 'Rohan Sharma', 22, 'Mechanical Engineering', '2023-01-12'),\n",
                "(4, 'Sohan Raja', 20, 'Computer Science', '2020-06-20');"
            ],
            "metadata": {
                "language": "sql",
                "azdata_cell_guid": "655d1025-1eb0-416a-97da-c52532017acc"
            },
            "outputs": [
                {
                    "output_type": "display_data",
                    "data": {
                        "text/html": "Commands completed successfully"
                    },
                    "metadata": {}
                },
                {
                    "output_type": "display_data",
                    "data": {
                        "text/html": "Total execution time: 00:00:00.004"
                    },
                    "metadata": {}
                }
            ],
            "execution_count": 20
        },
        {
            "cell_type": "code",
            "source": [
                "INSERT INTO subjects VALUES\n",
                "(101, 1, 'Math', 85),\n",
                "(102, 1, 'Physics', 78),\n",
                "(103, 2, 'Math', 90),\n",
                "(104, 2, 'Electronics', 82),\n",
                "(105, 3, 'Math', 88),\n",
                "(106, 4, 'Computer Networks', 80);"
            ],
            "metadata": {
                "language": "sql",
                "azdata_cell_guid": "d59d1d76-7f22-4e7f-a958-3adc11fd87db"
            },
            "outputs": [
                {
                    "output_type": "display_data",
                    "data": {
                        "text/html": "Commands completed successfully"
                    },
                    "metadata": {}
                },
                {
                    "output_type": "display_data",
                    "data": {
                        "text/html": "Total execution time: 00:00:00.005"
                    },
                    "metadata": {}
                }
            ],
            "execution_count": 21
        },
        {
            "cell_type": "markdown",
            "source": [
                "## String Functions"
            ],
            "metadata": {
                "language": "sql",
                "azdata_cell_guid": "13639974-9b3d-4add-a71c-78b512b58379"
            },
            "attachments": {}
        },
        {
            "cell_type": "code",
            "source": [
                "SELECT UPPER(name) AS uppercase_name\n",
                "FROM students;"
            ],
            "metadata": {
                "language": "sql",
                "azdata_cell_guid": "098e3670-3ab9-48e2-be8b-5006414014d1"
            },
            "outputs": [
                {
                    "output_type": "display_data",
                    "data": {
                        "text/html": "(4 row(s) affected)"
                    },
                    "metadata": {}
                },
                {
                    "output_type": "display_data",
                    "data": {
                        "text/html": "Total execution time: 00:00:01.004"
                    },
                    "metadata": {}
                },
                {
                    "output_type": "execute_result",
                    "metadata": {},
                    "execution_count": 22,
                    "data": {
                        "application/vnd.dataresource+json": {
                            "schema": {
                                "fields": [
                                    {
                                        "name": "uppercase_name"
                                    }
                                ]
                            },
                            "data": [
                                {
                                    "uppercase_name": "RAM KUMAR"
                                },
                                {
                                    "uppercase_name": "SHYAM SINGH"
                                },
                                {
                                    "uppercase_name": "ROHAN SHARMA"
                                },
                                {
                                    "uppercase_name": "SOHAN RAJA"
                                }
                            ]
                        },
                        "text/html": [
                            "<table>",
                            "<tr><th>uppercase_name</th></tr>",
                            "<tr><td>RAM KUMAR</td></tr>",
                            "<tr><td>SHYAM SINGH</td></tr>",
                            "<tr><td>ROHAN SHARMA</td></tr>",
                            "<tr><td>SOHAN RAJA</td></tr>",
                            "</table>"
                        ]
                    }
                }
            ],
            "execution_count": 22
        },
        {
            "cell_type": "code",
            "source": [
                "SELECT CONCAT(name, ' - ', department) AS student_info\n",
                "FROM students;"
            ],
            "metadata": {
                "language": "sql",
                "azdata_cell_guid": "ba7d48db-ebd0-4e6b-9a23-c126374df34d"
            },
            "outputs": [
                {
                    "output_type": "display_data",
                    "data": {
                        "text/html": "(4 row(s) affected)"
                    },
                    "metadata": {}
                },
                {
                    "output_type": "display_data",
                    "data": {
                        "text/html": "Total execution time: 00:00:01.008"
                    },
                    "metadata": {}
                },
                {
                    "output_type": "execute_result",
                    "metadata": {},
                    "execution_count": 23,
                    "data": {
                        "application/vnd.dataresource+json": {
                            "schema": {
                                "fields": [
                                    {
                                        "name": "student_info"
                                    }
                                ]
                            },
                            "data": [
                                {
                                    "student_info": "Ram Kumar - Computer Science"
                                },
                                {
                                    "student_info": "Shyam Singh - Electrical Engineering"
                                },
                                {
                                    "student_info": "Rohan Sharma - Mechanical Engineering"
                                },
                                {
                                    "student_info": "Sohan Raja - Computer Science"
                                }
                            ]
                        },
                        "text/html": [
                            "<table>",
                            "<tr><th>student_info</th></tr>",
                            "<tr><td>Ram Kumar - Computer Science</td></tr>",
                            "<tr><td>Shyam Singh - Electrical Engineering</td></tr>",
                            "<tr><td>Rohan Sharma - Mechanical Engineering</td></tr>",
                            "<tr><td>Sohan Raja - Computer Science</td></tr>",
                            "</table>"
                        ]
                    }
                }
            ],
            "execution_count": 23
        },
        {
            "cell_type": "code",
            "source": [
                "SELECT name, LENGTH(name) AS name_length\n",
                "FROM students;"
            ],
            "metadata": {
                "language": "sql",
                "azdata_cell_guid": "a6c7c5a0-b75c-401e-a852-12e1961d254a",
                "tags": [
                    "hide_input"
                ]
            },
            "outputs": [
                {
                    "output_type": "display_data",
                    "data": {
                        "text/html": "(4 row(s) affected)"
                    },
                    "metadata": {}
                },
                {
                    "output_type": "display_data",
                    "data": {
                        "text/html": "Total execution time: 00:00:01.009"
                    },
                    "metadata": {}
                },
                {
                    "output_type": "execute_result",
                    "metadata": {},
                    "execution_count": 24,
                    "data": {
                        "application/vnd.dataresource+json": {
                            "schema": {
                                "fields": [
                                    {
                                        "name": "name"
                                    },
                                    {
                                        "name": "name_length"
                                    }
                                ]
                            },
                            "data": [
                                {
                                    "name": "Ram Kumar",
                                    "name_length": "9"
                                },
                                {
                                    "name": "Shyam Singh",
                                    "name_length": "11"
                                },
                                {
                                    "name": "Rohan Sharma",
                                    "name_length": "12"
                                },
                                {
                                    "name": "Sohan Raja",
                                    "name_length": "10"
                                }
                            ]
                        },
                        "text/html": [
                            "<table>",
                            "<tr><th>name</th><th>name_length</th></tr>",
                            "<tr><td>Ram Kumar</td><td>9</td></tr>",
                            "<tr><td>Shyam Singh</td><td>11</td></tr>",
                            "<tr><td>Rohan Sharma</td><td>12</td></tr>",
                            "<tr><td>Sohan Raja</td><td>10</td></tr>",
                            "</table>"
                        ]
                    }
                }
            ],
            "execution_count": 24
        },
        {
            "cell_type": "markdown",
            "source": [
                "## Numeric Functions"
            ],
            "metadata": {
                "language": "sql",
                "azdata_cell_guid": "f5156fcd-1725-4d3c-a1e4-7b4998fee8e1"
            },
            "attachments": {}
        },
        {
            "cell_type": "code",
            "source": [
                "SELECT MAX(marks) AS highest_marks, MIN(marks) AS lowest_marks\n",
                "FROM subjects;"
            ],
            "metadata": {
                "language": "sql",
                "azdata_cell_guid": "c772ab07-7951-424d-b88c-2e9d411db4eb"
            },
            "outputs": [
                {
                    "output_type": "display_data",
                    "data": {
                        "text/html": "(1 row(s) affected)"
                    },
                    "metadata": {}
                },
                {
                    "output_type": "display_data",
                    "data": {
                        "text/html": "Total execution time: 00:00:01.005"
                    },
                    "metadata": {}
                },
                {
                    "output_type": "execute_result",
                    "metadata": {},
                    "execution_count": 25,
                    "data": {
                        "application/vnd.dataresource+json": {
                            "schema": {
                                "fields": [
                                    {
                                        "name": "highest_marks"
                                    },
                                    {
                                        "name": "lowest_marks"
                                    }
                                ]
                            },
                            "data": [
                                {
                                    "highest_marks": "90",
                                    "lowest_marks": "78"
                                }
                            ]
                        },
                        "text/html": [
                            "<table>",
                            "<tr><th>highest_marks</th><th>lowest_marks</th></tr>",
                            "<tr><td>90</td><td>78</td></tr>",
                            "</table>"
                        ]
                    }
                }
            ],
            "execution_count": 25
        },
        {
            "cell_type": "code",
            "source": [
                "SELECT subject_name, ABS(90 - marks) AS diff_from_90\n",
                "FROM subjects;"
            ],
            "metadata": {
                "language": "sql",
                "azdata_cell_guid": "2480f5c4-c049-4d3f-a927-05430af540f9"
            },
            "outputs": [
                {
                    "output_type": "display_data",
                    "data": {
                        "text/html": "(6 row(s) affected)"
                    },
                    "metadata": {}
                },
                {
                    "output_type": "display_data",
                    "data": {
                        "text/html": "Total execution time: 00:00:01.005"
                    },
                    "metadata": {}
                },
                {
                    "output_type": "execute_result",
                    "metadata": {},
                    "execution_count": 26,
                    "data": {
                        "application/vnd.dataresource+json": {
                            "schema": {
                                "fields": [
                                    {
                                        "name": "subject_name"
                                    },
                                    {
                                        "name": "diff_from_90"
                                    }
                                ]
                            },
                            "data": [
                                {
                                    "subject_name": "Math",
                                    "diff_from_90": "5"
                                },
                                {
                                    "subject_name": "Physics",
                                    "diff_from_90": "12"
                                },
                                {
                                    "subject_name": "Math",
                                    "diff_from_90": "0"
                                },
                                {
                                    "subject_name": "Electronics",
                                    "diff_from_90": "8"
                                },
                                {
                                    "subject_name": "Math",
                                    "diff_from_90": "2"
                                },
                                {
                                    "subject_name": "Computer Networks",
                                    "diff_from_90": "10"
                                }
                            ]
                        },
                        "text/html": [
                            "<table>",
                            "<tr><th>subject_name</th><th>diff_from_90</th></tr>",
                            "<tr><td>Math</td><td>5</td></tr>",
                            "<tr><td>Physics</td><td>12</td></tr>",
                            "<tr><td>Math</td><td>0</td></tr>",
                            "<tr><td>Electronics</td><td>8</td></tr>",
                            "<tr><td>Math</td><td>2</td></tr>",
                            "<tr><td>Computer Networks</td><td>10</td></tr>",
                            "</table>"
                        ]
                    }
                }
            ],
            "execution_count": 26
        },
        {
            "cell_type": "code",
            "source": [
                "SELECT subject_name, ROUND(marks, 0) AS rounded_marks\n",
                "FROM subjects;"
            ],
            "metadata": {
                "language": "sql",
                "azdata_cell_guid": "bad8f938-ad5e-4cc7-9f91-97db456cde02"
            },
            "outputs": [
                {
                    "output_type": "display_data",
                    "data": {
                        "text/html": "(6 row(s) affected)"
                    },
                    "metadata": {}
                },
                {
                    "output_type": "display_data",
                    "data": {
                        "text/html": "Total execution time: 00:00:01.003"
                    },
                    "metadata": {}
                },
                {
                    "output_type": "execute_result",
                    "metadata": {},
                    "execution_count": 27,
                    "data": {
                        "application/vnd.dataresource+json": {
                            "schema": {
                                "fields": [
                                    {
                                        "name": "subject_name"
                                    },
                                    {
                                        "name": "rounded_marks"
                                    }
                                ]
                            },
                            "data": [
                                {
                                    "subject_name": "Math",
                                    "rounded_marks": "85"
                                },
                                {
                                    "subject_name": "Physics",
                                    "rounded_marks": "78"
                                },
                                {
                                    "subject_name": "Math",
                                    "rounded_marks": "90"
                                },
                                {
                                    "subject_name": "Electronics",
                                    "rounded_marks": "82"
                                },
                                {
                                    "subject_name": "Math",
                                    "rounded_marks": "88"
                                },
                                {
                                    "subject_name": "Computer Networks",
                                    "rounded_marks": "80"
                                }
                            ]
                        },
                        "text/html": [
                            "<table>",
                            "<tr><th>subject_name</th><th>rounded_marks</th></tr>",
                            "<tr><td>Math</td><td>85</td></tr>",
                            "<tr><td>Physics</td><td>78</td></tr>",
                            "<tr><td>Math</td><td>90</td></tr>",
                            "<tr><td>Electronics</td><td>82</td></tr>",
                            "<tr><td>Math</td><td>88</td></tr>",
                            "<tr><td>Computer Networks</td><td>80</td></tr>",
                            "</table>"
                        ]
                    }
                }
            ],
            "execution_count": 27
        },
        {
            "cell_type": "markdown",
            "source": [
                "## Date and Time Functions"
            ],
            "metadata": {
                "language": "sql",
                "azdata_cell_guid": "2912c1d7-0972-4090-bab0-ea761c45b775"
            },
            "attachments": {}
        },
        {
            "cell_type": "code",
            "source": [
                "SELECT NOW() AS 'current_time';"
            ],
            "metadata": {
                "language": "sql",
                "azdata_cell_guid": "96726d59-95b1-46a6-bdd7-a2035b100ff1"
            },
            "outputs": [
                {
                    "output_type": "display_data",
                    "data": {
                        "text/html": "(1 row(s) affected)"
                    },
                    "metadata": {}
                },
                {
                    "output_type": "display_data",
                    "data": {
                        "text/html": "Total execution time: 00:00:01.005"
                    },
                    "metadata": {}
                },
                {
                    "output_type": "execute_result",
                    "metadata": {},
                    "execution_count": 28,
                    "data": {
                        "application/vnd.dataresource+json": {
                            "schema": {
                                "fields": [
                                    {
                                        "name": "current_time"
                                    }
                                ]
                            },
                            "data": [
                                {
                                    "current_time": "2025-03-17 18:51:26"
                                }
                            ]
                        },
                        "text/html": [
                            "<table>",
                            "<tr><th>current_time</th></tr>",
                            "<tr><td>2025-03-17 18:51:26</td></tr>",
                            "</table>"
                        ]
                    }
                }
            ],
            "execution_count": 28
        },
        {
            "cell_type": "code",
            "source": [
                "SELECT name, YEAR(enrollment_date) AS year, MONTH(enrollment_date) AS month\n",
                "FROM students;"
            ],
            "metadata": {
                "language": "sql",
                "azdata_cell_guid": "5e15490b-def7-40ca-abf2-56f71ea849f4"
            },
            "outputs": [
                {
                    "output_type": "display_data",
                    "data": {
                        "text/html": "(4 row(s) affected)"
                    },
                    "metadata": {}
                },
                {
                    "output_type": "display_data",
                    "data": {
                        "text/html": "Total execution time: 00:00:01.008"
                    },
                    "metadata": {}
                },
                {
                    "output_type": "execute_result",
                    "metadata": {},
                    "execution_count": 29,
                    "data": {
                        "application/vnd.dataresource+json": {
                            "schema": {
                                "fields": [
                                    {
                                        "name": "name"
                                    },
                                    {
                                        "name": "year"
                                    },
                                    {
                                        "name": "month"
                                    }
                                ]
                            },
                            "data": [
                                {
                                    "name": "Ram Kumar",
                                    "year": "2022",
                                    "month": "8"
                                },
                                {
                                    "name": "Shyam Singh",
                                    "year": "2021",
                                    "month": "9"
                                },
                                {
                                    "name": "Rohan Sharma",
                                    "year": "2023",
                                    "month": "1"
                                },
                                {
                                    "name": "Sohan Raja",
                                    "year": "2020",
                                    "month": "6"
                                }
                            ]
                        },
                        "text/html": [
                            "<table>",
                            "<tr><th>name</th><th>year</th><th>month</th></tr>",
                            "<tr><td>Ram Kumar</td><td>2022</td><td>8</td></tr>",
                            "<tr><td>Shyam Singh</td><td>2021</td><td>9</td></tr>",
                            "<tr><td>Rohan Sharma</td><td>2023</td><td>1</td></tr>",
                            "<tr><td>Sohan Raja</td><td>2020</td><td>6</td></tr>",
                            "</table>"
                        ]
                    }
                }
            ],
            "execution_count": 29
        },
        {
            "cell_type": "code",
            "source": [
                "SELECT name, DATEDIFF(NOW(), enrollment_date) AS days_since_enrollment\n",
                "FROM students;"
            ],
            "metadata": {
                "language": "sql",
                "azdata_cell_guid": "6d365b6c-98e9-41cb-a356-4e13345a202c"
            },
            "outputs": [
                {
                    "output_type": "display_data",
                    "data": {
                        "text/html": "(4 row(s) affected)"
                    },
                    "metadata": {}
                },
                {
                    "output_type": "display_data",
                    "data": {
                        "text/html": "Total execution time: 00:00:01.007"
                    },
                    "metadata": {}
                },
                {
                    "output_type": "execute_result",
                    "metadata": {},
                    "execution_count": 30,
                    "data": {
                        "application/vnd.dataresource+json": {
                            "schema": {
                                "fields": [
                                    {
                                        "name": "name"
                                    },
                                    {
                                        "name": "days_since_enrollment"
                                    }
                                ]
                            },
                            "data": [
                                {
                                    "name": "Ram Kumar",
                                    "days_since_enrollment": "950"
                                },
                                {
                                    "name": "Shyam Singh",
                                    "days_since_enrollment": "1279"
                                },
                                {
                                    "name": "Rohan Sharma",
                                    "days_since_enrollment": "795"
                                },
                                {
                                    "name": "Sohan Raja",
                                    "days_since_enrollment": "1731"
                                }
                            ]
                        },
                        "text/html": [
                            "<table>",
                            "<tr><th>name</th><th>days_since_enrollment</th></tr>",
                            "<tr><td>Ram Kumar</td><td>950</td></tr>",
                            "<tr><td>Shyam Singh</td><td>1279</td></tr>",
                            "<tr><td>Rohan Sharma</td><td>795</td></tr>",
                            "<tr><td>Sohan Raja</td><td>1731</td></tr>",
                            "</table>"
                        ]
                    }
                }
            ],
            "execution_count": 30
        },
        {
            "cell_type": "markdown",
            "source": [
                "## Aggregate Functions"
            ],
            "metadata": {
                "language": "sql",
                "azdata_cell_guid": "eb88b93d-34de-47c6-85c6-d0f1ebeaf2b9"
            },
            "attachments": {}
        },
        {
            "cell_type": "code",
            "source": [
                "SELECT student_id, AVG(marks) AS average_marks\n",
                "FROM subjects\n",
                "GROUP BY student_id;"
            ],
            "metadata": {
                "language": "sql",
                "azdata_cell_guid": "b99eeb1c-7e9e-4875-8f4e-75c5a6ec19d5"
            },
            "outputs": [
                {
                    "output_type": "display_data",
                    "data": {
                        "text/html": "(4 row(s) affected)"
                    },
                    "metadata": {}
                },
                {
                    "output_type": "display_data",
                    "data": {
                        "text/html": "Total execution time: 00:00:01.008"
                    },
                    "metadata": {}
                },
                {
                    "output_type": "execute_result",
                    "metadata": {},
                    "execution_count": 31,
                    "data": {
                        "application/vnd.dataresource+json": {
                            "schema": {
                                "fields": [
                                    {
                                        "name": "student_id"
                                    },
                                    {
                                        "name": "average_marks"
                                    }
                                ]
                            },
                            "data": [
                                {
                                    "student_id": "1",
                                    "average_marks": "81.5000"
                                },
                                {
                                    "student_id": "2",
                                    "average_marks": "86.0000"
                                },
                                {
                                    "student_id": "3",
                                    "average_marks": "88.0000"
                                },
                                {
                                    "student_id": "4",
                                    "average_marks": "80.0000"
                                }
                            ]
                        },
                        "text/html": [
                            "<table>",
                            "<tr><th>student_id</th><th>average_marks</th></tr>",
                            "<tr><td>1</td><td>81.5000</td></tr>",
                            "<tr><td>2</td><td>86.0000</td></tr>",
                            "<tr><td>3</td><td>88.0000</td></tr>",
                            "<tr><td>4</td><td>80.0000</td></tr>",
                            "</table>"
                        ]
                    }
                }
            ],
            "execution_count": 31
        },
        {
            "cell_type": "code",
            "source": [
                "SELECT department, COUNT(*) AS student_count\n",
                "FROM students\n",
                "GROUP BY department;"
            ],
            "metadata": {
                "language": "sql",
                "azdata_cell_guid": "05524f1f-cc91-422f-926d-e51f78a32ce5"
            },
            "outputs": [
                {
                    "output_type": "display_data",
                    "data": {
                        "text/html": "(3 row(s) affected)"
                    },
                    "metadata": {}
                },
                {
                    "output_type": "display_data",
                    "data": {
                        "text/html": "Total execution time: 00:00:01.009"
                    },
                    "metadata": {}
                },
                {
                    "output_type": "execute_result",
                    "metadata": {},
                    "execution_count": 32,
                    "data": {
                        "application/vnd.dataresource+json": {
                            "schema": {
                                "fields": [
                                    {
                                        "name": "department"
                                    },
                                    {
                                        "name": "student_count"
                                    }
                                ]
                            },
                            "data": [
                                {
                                    "department": "Computer Science",
                                    "student_count": "2"
                                },
                                {
                                    "department": "Electrical Engineering",
                                    "student_count": "1"
                                },
                                {
                                    "department": "Mechanical Engineering",
                                    "student_count": "1"
                                }
                            ]
                        },
                        "text/html": [
                            "<table>",
                            "<tr><th>department</th><th>student_count</th></tr>",
                            "<tr><td>Computer Science</td><td>2</td></tr>",
                            "<tr><td>Electrical Engineering</td><td>1</td></tr>",
                            "<tr><td>Mechanical Engineering</td><td>1</td></tr>",
                            "</table>"
                        ]
                    }
                }
            ],
            "execution_count": 32
        },
        {
            "cell_type": "markdown",
            "source": [
                "## Conditional Functions"
            ],
            "metadata": {
                "language": "sql",
                "azdata_cell_guid": "d856567b-bd81-4a41-be23-bad4a729228d"
            },
            "attachments": {}
        },
        {
            "cell_type": "code",
            "source": [
                "SELECT name, \n",
                "       IF(marks >= 80, 'Pass', 'Fail') AS result\n",
                "FROM students\n",
                "JOIN subjects ON students.student_id = subjects.student_id;"
            ],
            "metadata": {
                "language": "sql",
                "azdata_cell_guid": "84a9ef92-53ea-4c4b-bb1c-42853f243274"
            },
            "outputs": [
                {
                    "output_type": "display_data",
                    "data": {
                        "text/html": "(6 row(s) affected)"
                    },
                    "metadata": {}
                },
                {
                    "output_type": "display_data",
                    "data": {
                        "text/html": "Total execution time: 00:00:01.009"
                    },
                    "metadata": {}
                },
                {
                    "output_type": "execute_result",
                    "metadata": {},
                    "execution_count": 33,
                    "data": {
                        "application/vnd.dataresource+json": {
                            "schema": {
                                "fields": [
                                    {
                                        "name": "name"
                                    },
                                    {
                                        "name": "result"
                                    }
                                ]
                            },
                            "data": [
                                {
                                    "name": "Ram Kumar",
                                    "result": "Pass"
                                },
                                {
                                    "name": "Ram Kumar",
                                    "result": "Fail"
                                },
                                {
                                    "name": "Shyam Singh",
                                    "result": "Pass"
                                },
                                {
                                    "name": "Shyam Singh",
                                    "result": "Pass"
                                },
                                {
                                    "name": "Rohan Sharma",
                                    "result": "Pass"
                                },
                                {
                                    "name": "Sohan Raja",
                                    "result": "Pass"
                                }
                            ]
                        },
                        "text/html": [
                            "<table>",
                            "<tr><th>name</th><th>result</th></tr>",
                            "<tr><td>Ram Kumar</td><td>Pass</td></tr>",
                            "<tr><td>Ram Kumar</td><td>Fail</td></tr>",
                            "<tr><td>Shyam Singh</td><td>Pass</td></tr>",
                            "<tr><td>Shyam Singh</td><td>Pass</td></tr>",
                            "<tr><td>Rohan Sharma</td><td>Pass</td></tr>",
                            "<tr><td>Sohan Raja</td><td>Pass</td></tr>",
                            "</table>"
                        ]
                    }
                }
            ],
            "execution_count": 33
        },
        {
            "cell_type": "code",
            "source": [
                "SELECT name, \n",
                "       CASE \n",
                "           WHEN marks >= 90 THEN 'A'\n",
                "           WHEN marks >= 80 THEN 'B'\n",
                "           WHEN marks >= 70 THEN 'C'\n",
                "           ELSE 'F'\n",
                "       END AS grade\n",
                "FROM students\n",
                "JOIN subjects ON students.student_id = subjects.student_id;"
            ],
            "metadata": {
                "language": "sql",
                "azdata_cell_guid": "55ced0ba-e12b-47e8-9465-d577d68df2d8"
            },
            "outputs": [
                {
                    "output_type": "display_data",
                    "data": {
                        "text/html": "(6 row(s) affected)"
                    },
                    "metadata": {}
                },
                {
                    "output_type": "display_data",
                    "data": {
                        "text/html": "Total execution time: 00:00:01.007"
                    },
                    "metadata": {}
                },
                {
                    "output_type": "execute_result",
                    "metadata": {},
                    "execution_count": 34,
                    "data": {
                        "application/vnd.dataresource+json": {
                            "schema": {
                                "fields": [
                                    {
                                        "name": "name"
                                    },
                                    {
                                        "name": "grade"
                                    }
                                ]
                            },
                            "data": [
                                {
                                    "name": "Ram Kumar",
                                    "grade": "B"
                                },
                                {
                                    "name": "Ram Kumar",
                                    "grade": "C"
                                },
                                {
                                    "name": "Shyam Singh",
                                    "grade": "A"
                                },
                                {
                                    "name": "Shyam Singh",
                                    "grade": "B"
                                },
                                {
                                    "name": "Rohan Sharma",
                                    "grade": "B"
                                },
                                {
                                    "name": "Sohan Raja",
                                    "grade": "B"
                                }
                            ]
                        },
                        "text/html": [
                            "<table>",
                            "<tr><th>name</th><th>grade</th></tr>",
                            "<tr><td>Ram Kumar</td><td>B</td></tr>",
                            "<tr><td>Ram Kumar</td><td>C</td></tr>",
                            "<tr><td>Shyam Singh</td><td>A</td></tr>",
                            "<tr><td>Shyam Singh</td><td>B</td></tr>",
                            "<tr><td>Rohan Sharma</td><td>B</td></tr>",
                            "<tr><td>Sohan Raja</td><td>B</td></tr>",
                            "</table>"
                        ]
                    }
                }
            ],
            "execution_count": 34
        },
        {
            "cell_type": "markdown",
            "source": [
                "## Creating a View"
            ],
            "metadata": {
                "language": "sql",
                "azdata_cell_guid": "25f59c1f-4bd5-46fc-b2de-7c07b9fae79c"
            },
            "attachments": {}
        },
        {
            "cell_type": "code",
            "source": [
                "CREATE VIEW student_average_marks AS\n",
                "SELECT s.student_id, s.name, AVG(sub.marks) AS average_marks\n",
                "FROM students s\n",
                "LEFT JOIN subjects sub ON s.student_id = sub.student_id\n",
                "GROUP BY s.student_id, s.name;"
            ],
            "metadata": {
                "language": "sql",
                "azdata_cell_guid": "d94fc2d8-34c1-4ccd-950c-6aab274ab58c"
            },
            "outputs": [
                {
                    "output_type": "display_data",
                    "data": {
                        "text/html": "Commands completed successfully"
                    },
                    "metadata": {}
                },
                {
                    "output_type": "display_data",
                    "data": {
                        "text/html": "Total execution time: 00:00:00.008"
                    },
                    "metadata": {}
                }
            ],
            "execution_count": 35
        },
        {
            "cell_type": "markdown",
            "source": [
                "## Using the View"
            ],
            "metadata": {
                "language": "sql",
                "azdata_cell_guid": "c6d2aa31-fbba-4805-a26c-2eb89f812c95"
            },
            "attachments": {}
        },
        {
            "cell_type": "code",
            "source": [
                "SELECT * \n",
                "FROM student_average_marks\n",
                "WHERE average_marks > 80;"
            ],
            "metadata": {
                "language": "sql",
                "azdata_cell_guid": "8fc7a01a-b67b-4e50-80c0-6e76efb5ffd2"
            },
            "outputs": [
                {
                    "output_type": "display_data",
                    "data": {
                        "text/html": "(3 row(s) affected)"
                    },
                    "metadata": {}
                },
                {
                    "output_type": "display_data",
                    "data": {
                        "text/html": "Total execution time: 00:00:01.008"
                    },
                    "metadata": {}
                },
                {
                    "output_type": "execute_result",
                    "metadata": {},
                    "execution_count": 36,
                    "data": {
                        "application/vnd.dataresource+json": {
                            "schema": {
                                "fields": [
                                    {
                                        "name": "student_id"
                                    },
                                    {
                                        "name": "name"
                                    },
                                    {
                                        "name": "average_marks"
                                    }
                                ]
                            },
                            "data": [
                                {
                                    "student_id": "1",
                                    "name": "Ram Kumar",
                                    "average_marks": "81.5000"
                                },
                                {
                                    "student_id": "2",
                                    "name": "Shyam Singh",
                                    "average_marks": "86.0000"
                                },
                                {
                                    "student_id": "3",
                                    "name": "Rohan Sharma",
                                    "average_marks": "88.0000"
                                }
                            ]
                        },
                        "text/html": [
                            "<table>",
                            "<tr><th>student_id</th><th>name</th><th>average_marks</th></tr>",
                            "<tr><td>1</td><td>Ram Kumar</td><td>81.5000</td></tr>",
                            "<tr><td>2</td><td>Shyam Singh</td><td>86.0000</td></tr>",
                            "<tr><td>3</td><td>Rohan Sharma</td><td>88.0000</td></tr>",
                            "</table>"
                        ]
                    }
                }
            ],
            "execution_count": 36
        },
        {
            "cell_type": "markdown",
            "source": [
                "## Drop the View"
            ],
            "metadata": {
                "language": "sql",
                "azdata_cell_guid": "9c8fe339-e8de-4d43-a21a-64941895ada4"
            },
            "attachments": {}
        },
        {
            "cell_type": "code",
            "source": [
                "DROP VIEW student_average_marks;"
            ],
            "metadata": {
                "language": "sql",
                "azdata_cell_guid": "6f1f45c1-0ce7-49d1-a46d-94a07cf1206e"
            },
            "outputs": [
                {
                    "output_type": "display_data",
                    "data": {
                        "text/html": "Commands completed successfully"
                    },
                    "metadata": {}
                },
                {
                    "output_type": "display_data",
                    "data": {
                        "text/html": "Total execution time: 00:00:00.011"
                    },
                    "metadata": {}
                }
            ],
            "execution_count": 38
        }
    ]
}