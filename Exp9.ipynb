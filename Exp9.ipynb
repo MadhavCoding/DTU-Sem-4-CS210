{
    "metadata": {
        "kernelspec": {
            "name": "SQL",
            "display_name": "SQL",
            "language": "sql"
        },
        "language_info": {
            "name": "sql",
            "version": ""
        }
    },
    "nbformat_minor": 2,
    "nbformat": 4,
    "cells": [
        {
            "cell_type": "markdown",
            "source": [
                "# **<u>DBMS Experiment 9</u>**"
            ],
            "metadata": {
                "azdata_cell_guid": "b77a86e5-cc57-43cb-9ec9-b97895597ffe"
            },
            "attachments": {}
        },
        {
            "cell_type": "code",
            "source": [
                "CREATE DATABASE CS210Exp9;"
            ],
            "metadata": {
                "azdata_cell_guid": "f9eb6e88-5b63-4b41-8902-aa3bd3ce744c",
                "language": "sql"
            },
            "outputs": [
                {
                    "output_type": "display_data",
                    "data": {
                        "text/html": "Commands completed successfully"
                    },
                    "metadata": {}
                },
                {
                    "output_type": "display_data",
                    "data": {
                        "text/html": "Total execution time: 00:00:00.006"
                    },
                    "metadata": {}
                }
            ],
            "execution_count": 1
        },
        {
            "cell_type": "code",
            "source": [
                "USE CS210Exp6;"
            ],
            "metadata": {
                "language": "sql",
                "azdata_cell_guid": "77558cd0-5ce8-4c97-b619-e734a8b6dfbe"
            },
            "outputs": [
                {
                    "output_type": "display_data",
                    "data": {
                        "text/html": "Commands completed successfully"
                    },
                    "metadata": {}
                },
                {
                    "output_type": "display_data",
                    "data": {
                        "text/html": "Total execution time: 00:00:00.003"
                    },
                    "metadata": {}
                }
            ],
            "execution_count": 2
        },
        {
            "cell_type": "code",
            "source": [
                "-- Create the employees table\n",
                "CREATE TABLE employees (\n",
                "    employee_id INT PRIMARY KEY,\n",
                "    name VARCHAR(50),\n",
                "    salary DECIMAL(10,2),\n",
                "    department_id INT\n",
                ");\n",
                "\n",
                "-- Insert sample employees\n",
                "INSERT INTO employees (employee_id, name, salary, department_id) VALUES\n",
                "(1, 'Rohan Kumar', 50000.00, 101),\n",
                "(2, 'Priya Sharma', 60000.00, 102),\n",
                "(3, 'Amit Patel', 45000.00, 101),\n",
                "(4, 'Sneha Desai', 70000.00, 103),\n",
                "(5, 'Rahul Singh', 55000.00, 102);\n",
                "\n",
                "-- Create the departments table\n",
                "CREATE TABLE departments (\n",
                "    department_id INT PRIMARY KEY,\n",
                "    department_name VARCHAR(50),\n",
                "    location VARCHAR(50)\n",
                ");\n",
                "\n",
                "-- Insert sample departments\n",
                "INSERT INTO departments (department_id, department_name, location) VALUES\n",
                "(101, 'Finance', 'Mumbai'),\n",
                "(102, 'HR', 'Delhi'),\n",
                "(103, 'IT', 'Bengaluru');\n",
                "\n",
                "-- Create the sales table\n",
                "CREATE TABLE sales (\n",
                "    sale_id INT PRIMARY KEY,\n",
                "    employee_id INT,\n",
                "    sales_amount DECIMAL(10,2),\n",
                "    sale_date DATE\n",
                ");\n",
                "\n",
                "-- Insert sample sales records\n",
                "INSERT INTO sales (sale_id, employee_id, sales_amount, sale_date) VALUES\n",
                "(1, 1, 10000.00, '2025-03-01'),\n",
                "(2, 2, 15000.00, '2025-03-02'),\n",
                "(3, 1, 8000.00, '2025-03-05'),\n",
                "(4, 3, 12000.00, '2025-03-06'),\n",
                "(5, 4, 20000.00, '2025-03-07');\n",
                "\n",
                "-- Create the managers table\n",
                "CREATE TABLE managers (\n",
                "    manager_id INT PRIMARY KEY,\n",
                "    name VARCHAR(50),\n",
                "    salary DECIMAL(10,2)\n",
                ");\n",
                "\n",
                "-- Insert sample managers \n",
                "INSERT INTO managers (manager_id, name, salary) VALUES\n",
                "(101, 'Suresh Rao', 80000.00),\n",
                "(102, 'Neha Gupta', 90000.00);\n",
                ""
            ],
            "metadata": {
                "language": "sql",
                "azdata_cell_guid": "bb417469-a497-49b3-a638-20630d0c1e76"
            },
            "outputs": [
                {
                    "output_type": "display_data",
                    "data": {
                        "text/html": "Commands completed successfully"
                    },
                    "metadata": {}
                },
                {
                    "output_type": "display_data",
                    "data": {
                        "text/html": "Commands completed successfully"
                    },
                    "metadata": {}
                },
                {
                    "output_type": "display_data",
                    "data": {
                        "text/html": "Commands completed successfully"
                    },
                    "metadata": {}
                },
                {
                    "output_type": "display_data",
                    "data": {
                        "text/html": "Commands completed successfully"
                    },
                    "metadata": {}
                },
                {
                    "output_type": "display_data",
                    "data": {
                        "text/html": "Commands completed successfully"
                    },
                    "metadata": {}
                },
                {
                    "output_type": "display_data",
                    "data": {
                        "text/html": "Commands completed successfully"
                    },
                    "metadata": {}
                },
                {
                    "output_type": "display_data",
                    "data": {
                        "text/html": "Commands completed successfully"
                    },
                    "metadata": {}
                },
                {
                    "output_type": "display_data",
                    "data": {
                        "text/html": "Commands completed successfully"
                    },
                    "metadata": {}
                },
                {
                    "output_type": "display_data",
                    "data": {
                        "text/html": "Total execution time: 00:00:00.047"
                    },
                    "metadata": {}
                }
            ],
            "execution_count": 3
        },
        {
            "cell_type": "markdown",
            "source": [
                "## Subquery Basics"
            ],
            "metadata": {
                "azdata_cell_guid": "1f0f975b-6d2b-478b-ba5e-56092b43738f"
            },
            "attachments": {}
        },
        {
            "cell_type": "code",
            "source": [
                "SELECT employee_id, name, salary\n",
                "FROM employees\n",
                "WHERE salary > (SELECT AVG(salary) FROM employees);"
            ],
            "metadata": {
                "azdata_cell_guid": "a443ffa9-1ea0-4086-a2d9-3793b1424204",
                "language": "sql"
            },
            "outputs": [
                {
                    "output_type": "display_data",
                    "data": {
                        "text/html": "(2 row(s) affected)"
                    },
                    "metadata": {}
                },
                {
                    "output_type": "display_data",
                    "data": {
                        "text/html": "Total execution time: 00:00:01.012"
                    },
                    "metadata": {}
                },
                {
                    "output_type": "execute_result",
                    "metadata": {},
                    "execution_count": 4,
                    "data": {
                        "application/vnd.dataresource+json": {
                            "schema": {
                                "fields": [
                                    {
                                        "name": "employee_id"
                                    },
                                    {
                                        "name": "name"
                                    },
                                    {
                                        "name": "salary"
                                    }
                                ]
                            },
                            "data": [
                                {
                                    "employee_id": "2",
                                    "name": "Priya Sharma",
                                    "salary": "60000.00"
                                },
                                {
                                    "employee_id": "4",
                                    "name": "Sneha Desai",
                                    "salary": "70000.00"
                                }
                            ]
                        },
                        "text/html": [
                            "<table>",
                            "<tr><th>employee_id</th><th>name</th><th>salary</th></tr>",
                            "<tr><td>2</td><td>Priya Sharma</td><td>60000.00</td></tr>",
                            "<tr><td>4</td><td>Sneha Desai</td><td>70000.00</td></tr>",
                            "</table>"
                        ]
                    }
                }
            ],
            "execution_count": 4
        },
        {
            "cell_type": "markdown",
            "source": [
                "## Subqueries in Conditional Logic"
            ],
            "metadata": {
                "language": "sql",
                "azdata_cell_guid": "553f8891-f3c9-4f71-9663-20da247b7571"
            },
            "attachments": {}
        },
        {
            "cell_type": "code",
            "source": [
                "SELECT employee_id, name, department_id\n",
                "FROM employees\n",
                "WHERE department_id IN (\n",
                "    SELECT department_id\n",
                "    FROM departments\n",
                "    WHERE location = 'Delhi'\n",
                ");"
            ],
            "metadata": {
                "language": "sql",
                "azdata_cell_guid": "3281c263-bfc2-44be-b619-77a1521534df"
            },
            "outputs": [
                {
                    "output_type": "display_data",
                    "data": {
                        "text/html": "(2 row(s) affected)"
                    },
                    "metadata": {}
                },
                {
                    "output_type": "display_data",
                    "data": {
                        "text/html": "Total execution time: 00:00:01.005"
                    },
                    "metadata": {}
                },
                {
                    "output_type": "execute_result",
                    "metadata": {},
                    "execution_count": 5,
                    "data": {
                        "application/vnd.dataresource+json": {
                            "schema": {
                                "fields": [
                                    {
                                        "name": "employee_id"
                                    },
                                    {
                                        "name": "name"
                                    },
                                    {
                                        "name": "department_id"
                                    }
                                ]
                            },
                            "data": [
                                {
                                    "employee_id": "2",
                                    "name": "Priya Sharma",
                                    "department_id": "102"
                                },
                                {
                                    "employee_id": "5",
                                    "name": "Rahul Singh",
                                    "department_id": "102"
                                }
                            ]
                        },
                        "text/html": [
                            "<table>",
                            "<tr><th>employee_id</th><th>name</th><th>department_id</th></tr>",
                            "<tr><td>2</td><td>Priya Sharma</td><td>102</td></tr>",
                            "<tr><td>5</td><td>Rahul Singh</td><td>102</td></tr>",
                            "</table>"
                        ]
                    }
                }
            ],
            "execution_count": 5
        },
        {
            "cell_type": "markdown",
            "source": [
                "## Joining Subqueries"
            ],
            "metadata": {
                "language": "sql",
                "azdata_cell_guid": "a596ab5d-3259-4458-bfb6-31769d924c85"
            },
            "attachments": {}
        },
        {
            "cell_type": "code",
            "source": [
                "SELECT e.employee_id, e.name, s.total_sales\n",
                "FROM employees e\n",
                "JOIN (\n",
                "    SELECT employee_id, SUM(sales_amount) AS total_sales\n",
                "    FROM sales\n",
                "    GROUP BY employee_id\n",
                ") s ON e.employee_id = s.employee_id;"
            ],
            "metadata": {
                "language": "sql",
                "azdata_cell_guid": "7a32e203-18b5-47e0-af4d-54c3193c78fa"
            },
            "outputs": [
                {
                    "output_type": "display_data",
                    "data": {
                        "text/html": "(4 row(s) affected)"
                    },
                    "metadata": {}
                },
                {
                    "output_type": "display_data",
                    "data": {
                        "text/html": "Total execution time: 00:00:01.009"
                    },
                    "metadata": {}
                },
                {
                    "output_type": "execute_result",
                    "metadata": {},
                    "execution_count": 6,
                    "data": {
                        "application/vnd.dataresource+json": {
                            "schema": {
                                "fields": [
                                    {
                                        "name": "employee_id"
                                    },
                                    {
                                        "name": "name"
                                    },
                                    {
                                        "name": "total_sales"
                                    }
                                ]
                            },
                            "data": [
                                {
                                    "employee_id": "1",
                                    "name": "Rohan Kumar",
                                    "total_sales": "18000.00"
                                },
                                {
                                    "employee_id": "2",
                                    "name": "Priya Sharma",
                                    "total_sales": "15000.00"
                                },
                                {
                                    "employee_id": "3",
                                    "name": "Amit Patel",
                                    "total_sales": "12000.00"
                                },
                                {
                                    "employee_id": "4",
                                    "name": "Sneha Desai",
                                    "total_sales": "20000.00"
                                }
                            ]
                        },
                        "text/html": [
                            "<table>",
                            "<tr><th>employee_id</th><th>name</th><th>total_sales</th></tr>",
                            "<tr><td>1</td><td>Rohan Kumar</td><td>18000.00</td></tr>",
                            "<tr><td>2</td><td>Priya Sharma</td><td>15000.00</td></tr>",
                            "<tr><td>3</td><td>Amit Patel</td><td>12000.00</td></tr>",
                            "<tr><td>4</td><td>Sneha Desai</td><td>20000.00</td></tr>",
                            "</table>"
                        ]
                    }
                }
            ],
            "execution_count": 6
        },
        {
            "cell_type": "markdown",
            "source": [
                "## Subqueries and UNIONs"
            ],
            "metadata": {
                "language": "sql",
                "azdata_cell_guid": "ecf2e5a4-b7c1-40cd-8470-d8b9d35558e3"
            },
            "attachments": {}
        },
        {
            "cell_type": "code",
            "source": [
                "SELECT employee_id AS id, name, salary\n",
                "FROM employees\n",
                "WHERE salary > (SELECT AVG(salary) FROM employees)\n",
                "UNION\n",
                "SELECT manager_id AS id, name, salary\n",
                "FROM managers\n",
                "WHERE salary > (SELECT AVG(salary) FROM managers);"
            ],
            "metadata": {
                "language": "sql",
                "azdata_cell_guid": "5a1258de-37bc-4086-a1a2-95b4f93c9858"
            },
            "outputs": [
                {
                    "output_type": "display_data",
                    "data": {
                        "text/html": "(3 row(s) affected)"
                    },
                    "metadata": {}
                },
                {
                    "output_type": "display_data",
                    "data": {
                        "text/html": "Total execution time: 00:00:01.005"
                    },
                    "metadata": {}
                },
                {
                    "output_type": "execute_result",
                    "metadata": {},
                    "execution_count": 7,
                    "data": {
                        "application/vnd.dataresource+json": {
                            "schema": {
                                "fields": [
                                    {
                                        "name": "id"
                                    },
                                    {
                                        "name": "name"
                                    },
                                    {
                                        "name": "salary"
                                    }
                                ]
                            },
                            "data": [
                                {
                                    "id": "2",
                                    "name": "Priya Sharma",
                                    "salary": "60000.00"
                                },
                                {
                                    "id": "4",
                                    "name": "Sneha Desai",
                                    "salary": "70000.00"
                                },
                                {
                                    "id": "102",
                                    "name": "Neha Gupta",
                                    "salary": "90000.00"
                                }
                            ]
                        },
                        "text/html": [
                            "<table>",
                            "<tr><th>id</th><th>name</th><th>salary</th></tr>",
                            "<tr><td>2</td><td>Priya Sharma</td><td>60000.00</td></tr>",
                            "<tr><td>4</td><td>Sneha Desai</td><td>70000.00</td></tr>",
                            "<tr><td>102</td><td>Neha Gupta</td><td>90000.00</td></tr>",
                            "</table>"
                        ]
                    }
                }
            ],
            "execution_count": 7
        }
    ]
}