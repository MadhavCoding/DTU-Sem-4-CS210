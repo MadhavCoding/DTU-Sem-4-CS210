{
    "cells": [
        {
            "attachments": {},
            "cell_type": "markdown",
            "metadata": {
                "azdata_cell_guid": "cb8fda26-0314-45c1-bfe4-baed534f71b4",
                "language": "sql"
            },
            "source": [
                "# **<u>DBMS Experiment 2</u>**"
            ]
        },
        {
            "cell_type": "code",
            "execution_count": 1,
            "metadata": {
                "azdata_cell_guid": "d0b45040-d6b4-4a3c-ab54-a687c58bf0d3",
                "language": "sql",
                "tags": [],
                "vscode": {
                    "languageId": "sql"
                }
            },
            "outputs": [
                {
                    "data": {
                        "text/html": [
                            "Commands completed successfully"
                        ]
                    },
                    "metadata": {},
                    "output_type": "display_data"
                },
                {
                    "data": {
                        "text/html": [
                            "Total execution time: 00:00:00.003"
                        ]
                    },
                    "metadata": {},
                    "output_type": "display_data"
                }
            ],
            "source": [
                "CREATE DATABASE CS210Exp2;"
            ]
        },
        {
            "cell_type": "code",
            "execution_count": 2,
            "metadata": {
                "azdata_cell_guid": "7fd68c24-cd95-4a50-868b-f582d76096d6",
                "language": "sql",
                "tags": [],
                "vscode": {
                    "languageId": "sql"
                }
            },
            "outputs": [
                {
                    "data": {
                        "text/html": [
                            "Commands completed successfully"
                        ]
                    },
                    "metadata": {},
                    "output_type": "display_data"
                },
                {
                    "data": {
                        "text/html": [
                            "Total execution time: 00:00:00.002"
                        ]
                    },
                    "metadata": {},
                    "output_type": "display_data"
                }
            ],
            "source": [
                "USE CS210Exp2;"
            ]
        },
        {
            "cell_type": "code",
            "execution_count": 3,
            "metadata": {
                "azdata_cell_guid": "817c0f1c-489f-4d70-b96a-1b80458fcb89",
                "language": "sql",
                "tags": [],
                "vscode": {
                    "languageId": "sql"
                }
            },
            "outputs": [
                {
                    "data": {
                        "text/html": [
                            "Total execution time: 00:00:00.005"
                        ]
                    },
                    "metadata": {},
                    "output_type": "display_data"
                },
                {
                    "ename": "",
                    "evalue": "1050 (42S01): Table 'Faculty' already exists",
                    "output_type": "error",
                    "traceback": []
                }
            ],
            "source": [
                "CREATE TABLE Faculty(\n",
                "    ID INT PRIMARY KEY,\n",
                "    Name VARCHAR(50),\n",
                "    Department VARCHAR(50),\n",
                "    Salary INT\n",
                ");"
            ]
        },
        {
            "cell_type": "code",
            "execution_count": 4,
            "metadata": {
                "azdata_cell_guid": "d9cb7a72-e77e-4b9a-b104-82c920a66238",
                "language": "sql",
                "tags": [
                    "hide_input"
                ],
                "vscode": {
                    "languageId": "sql"
                }
            },
            "outputs": [
                {
                    "data": {
                        "text/html": [
                            "(1 row(s) affected)"
                        ]
                    },
                    "metadata": {},
                    "output_type": "display_data"
                },
                {
                    "data": {
                        "text/html": [
                            "Total execution time: 00:00:01.008"
                        ]
                    },
                    "metadata": {},
                    "output_type": "display_data"
                },
                {
                    "data": {
                        "application/vnd.dataresource+json": {
                            "data": [
                                {
                                    "Tables_in_CS210Exp2": "Faculty"
                                }
                            ],
                            "schema": {
                                "fields": [
                                    {
                                        "name": "Tables_in_CS210Exp2"
                                    }
                                ]
                            }
                        },
                        "text/html": [
                            "<table><tr><th>Tables_in_CS210Exp2</th></tr><tr><td>Faculty</td></tr></table>"
                        ]
                    },
                    "execution_count": 4,
                    "metadata": {},
                    "output_type": "execute_result"
                }
            ],
            "source": [
                "SHOW TABLES;"
            ]
        },
        {
            "cell_type": "code",
            "execution_count": 5,
            "metadata": {
                "azdata_cell_guid": "22f2ec0b-07bc-4fd5-af0a-95b606b34ebe",
                "language": "sql",
                "tags": [
                    "hide_input"
                ],
                "vscode": {
                    "languageId": "sql"
                }
            },
            "outputs": [
                {
                    "data": {
                        "text/html": [
                            "(4 row(s) affected)"
                        ]
                    },
                    "metadata": {},
                    "output_type": "display_data"
                },
                {
                    "data": {
                        "text/html": [
                            "Total execution time: 00:00:01.006"
                        ]
                    },
                    "metadata": {},
                    "output_type": "display_data"
                },
                {
                    "data": {
                        "application/vnd.dataresource+json": {
                            "data": [
                                {
                                    "Default": "NULL",
                                    "Extra": "",
                                    "Field": "ID",
                                    "Key": "PRI",
                                    "Null": "NO",
                                    "Type": "b'int'"
                                },
                                {
                                    "Default": "NULL",
                                    "Extra": "",
                                    "Field": "Name",
                                    "Key": "",
                                    "Null": "YES",
                                    "Type": "b'varchar(50)'"
                                },
                                {
                                    "Default": "NULL",
                                    "Extra": "",
                                    "Field": "Department",
                                    "Key": "",
                                    "Null": "YES",
                                    "Type": "b'varchar(50)'"
                                },
                                {
                                    "Default": "NULL",
                                    "Extra": "",
                                    "Field": "Salary",
                                    "Key": "",
                                    "Null": "YES",
                                    "Type": "b'int'"
                                }
                            ],
                            "schema": {
                                "fields": [
                                    {
                                        "name": "Field"
                                    },
                                    {
                                        "name": "Type"
                                    },
                                    {
                                        "name": "Null"
                                    },
                                    {
                                        "name": "Key"
                                    },
                                    {
                                        "name": "Default"
                                    },
                                    {
                                        "name": "Extra"
                                    }
                                ]
                            }
                        },
                        "text/html": [
                            "<table><tr><th>Field</th><th>Type</th><th>Null</th><th>Key</th><th>Default</th><th>Extra</th></tr><tr><td>ID</td><td>b&#39;int&#39;</td><td>NO</td><td>PRI</td><td>NULL</td><td></td></tr><tr><td>Name</td><td>b&#39;varchar(50)&#39;</td><td>YES</td><td></td><td>NULL</td><td></td></tr><tr><td>Department</td><td>b&#39;varchar(50)&#39;</td><td>YES</td><td></td><td>NULL</td><td></td></tr><tr><td>Salary</td><td>b&#39;int&#39;</td><td>YES</td><td></td><td>NULL</td><td></td></tr></table>"
                        ]
                    },
                    "execution_count": 5,
                    "metadata": {},
                    "output_type": "execute_result"
                }
            ],
            "source": [
                "DESCRIBE Faculty;"
            ]
        },
        {
            "cell_type": "code",
            "execution_count": 7,
            "metadata": {
                "azdata_cell_guid": "1c17689d-f8ac-446d-801c-981a3eab1bc9",
                "language": "sql",
                "tags": [],
                "vscode": {
                    "languageId": "sql"
                }
            },
            "outputs": [
                {
                    "data": {
                        "text/html": [
                            "Total execution time: 00:00:00.003"
                        ]
                    },
                    "metadata": {},
                    "output_type": "display_data"
                },
                {
                    "ename": "",
                    "evalue": "1051 (42S02): Unknown table 'CS210Exp2.Faculty'",
                    "output_type": "error",
                    "traceback": []
                }
            ],
            "source": [
                "DROP TABLE Faculty;"
            ]
        },
        {
            "cell_type": "code",
            "execution_count": 11,
            "metadata": {
                "azdata_cell_guid": "17fbb60d-491d-4382-8687-220d761ca505",
                "language": "sql",
                "tags": [
                    "hide_input"
                ],
                "vscode": {
                    "languageId": "sql"
                }
            },
            "outputs": [
                {
                    "data": {
                        "text/html": [
                            "(0 row(s) affected)"
                        ]
                    },
                    "metadata": {},
                    "output_type": "display_data"
                },
                {
                    "data": {
                        "text/html": [
                            "Total execution time: 00:00:01.009"
                        ]
                    },
                    "metadata": {},
                    "output_type": "display_data"
                },
                {
                    "data": {
                        "application/vnd.dataresource+json": {
                            "data": [],
                            "schema": {
                                "fields": [
                                    {
                                        "name": "Tables_in_CS210Exp2"
                                    }
                                ]
                            }
                        },
                        "text/html": [
                            "<table><tr><th>Tables_in_CS210Exp2</th></tr></table>"
                        ]
                    },
                    "execution_count": 11,
                    "metadata": {},
                    "output_type": "execute_result"
                }
            ],
            "source": [
                "SHOW TABLES;"
            ]
        },
        {
            "cell_type": "code",
            "execution_count": 12,
            "metadata": {
                "azdata_cell_guid": "aa2b666d-e3ce-4db5-bf95-c6c8e4914046",
                "language": "sql",
                "tags": [],
                "vscode": {
                    "languageId": "sql"
                }
            },
            "outputs": [
                {
                    "data": {
                        "text/html": [
                            "Total execution time: 00:00:00.003"
                        ]
                    },
                    "metadata": {},
                    "output_type": "display_data"
                },
                {
                    "ename": "",
                    "evalue": "1146 (42S02): Table 'CS210Exp2.Faculty' doesn't exist",
                    "output_type": "error",
                    "traceback": []
                }
            ],
            "source": [
                "DESCRIBE Faculty;"
            ]
        }
    ],
    "metadata": {
        "kernelspec": {
            "display_name": "Python 3",
            "language": "python",
            "name": "python3"
        },
        "language_info": {
            "name": "python",
            "version": "3.11.5"
        }
    },
    "nbformat": 4,
    "nbformat_minor": 2
}
